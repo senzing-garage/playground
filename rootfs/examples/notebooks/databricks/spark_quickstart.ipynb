{
 "cells": [
  {
   "cell_type": "markdown",
   "id": "54742490",
   "metadata": {},
   "source": [
    "# Senzing Entity Resolution Quickstart with Spark/Databricks"
   ]
  },
  {
   "cell_type": "markdown",
   "id": "a6d00ac0",
   "metadata": {},
   "source": [
    "This tutorial is an introduction to using [Senzing](https://senzing.com/) with Spark dataframes. We'll load three example datasets from Spark dataframes into an instance of Senzing, and we'll find all the entities that are present within this data. This will show us duplicates within the data, and we'll gain the capability to merge the dataframes based on the results from Senzing.\n",
    "\n",
    "We'll use the Senzing \"Truthsets\" demo data from https://github.com/Senzing/truth-sets/. The datasets are as follows:\n",
    "- `customers`, a messy dataset of customer names and incomplete PII data. It includes addresses, dates of birth, emails, etc.\n",
    "- `reference`, containing customer and organization information, with incomplete contact data\n",
    "- `watchlist`, a list of fraudulent entities\n",
    "\n",
    "We'll use all three datasets to figure out which rows in the `customers` dataset refer to the same entity (person).\n",
    "\n",
    "We'll use the [Senzing V4](https://www.senzing.com/docs/4_beta/python/index.html) syntax and a sandbox Senzing gRPC server hosted within a Docker container."
   ]
  },
  {
   "cell_type": "markdown",
   "id": "c70eff95",
   "metadata": {},
   "source": [
    "### Steps in this tutorial"
   ]
  },
  {
   "cell_type": "markdown",
   "id": "459273ad",
   "metadata": {},
   "source": [
    "1. Set up the Senzing gRPC server, import the required modules, download the demo data\n",
    "2. Load the data into Spark dataframes\n",
    "3. Configure the Senzing engine so it's ready to receive data\n",
    "4. Add our data to the Senzing repository and resolve entities\n",
    "5. Run a cleanup process to ensure the entities are as accurate as possible.\n",
    "6. Extract the resolved entities from Senzing\n",
    "7. Add a new column to our Spark dataframe containing resolved entity details."
   ]
  },
  {
   "cell_type": "markdown",
   "id": "28f32414",
   "metadata": {},
   "source": [
    "## Set up requirements"
   ]
  },
  {
   "cell_type": "markdown",
   "id": "48511fa3",
   "metadata": {},
   "source": [
    "In this tutorial, we'll use the [`senzing`](https://garage.senzing.com/sz-sdk-python/index.html) and [`senzing_grpc`](https://garage.senzing.com/sz-sdk-python-grpc/) packages, in addition to PySpark. You can install both of these using the `requirements.txt` file in the repo folder containing this tutorial."
   ]
  },
  {
   "cell_type": "code",
   "execution_count": 26,
   "id": "02ac5b42",
   "metadata": {},
   "outputs": [],
   "source": [
    "import grpc\n",
    "from senzing import szengineflags, szerror\n",
    "from senzing_grpc import SzAbstractFactoryGrpc\n",
    "from pyspark.sql import SparkSession\n",
    "from pyspark.sql.functions import col, collect_list, array, array_except\n",
    "import json\n",
    "import os\n",
    "import requests\n",
    "import shutil"
   ]
  },
  {
   "cell_type": "markdown",
   "id": "ad5774d7",
   "metadata": {},
   "source": [
    "We'll start our [Senzing gRPC server](https://github.com/senzing-garage/serve-grpc/tree/main) using Docker.\n",
    "\n",
    "Run the following command `docker run -it --publish 8261:8261 --rm senzing/serve-grpc` in a terminal window.\n"
   ]
  },
  {
   "cell_type": "markdown",
   "id": "fbc4edaf",
   "metadata": {},
   "source": [
    "Then, we'll download the example data:"
   ]
  },
  {
   "cell_type": "code",
   "execution_count": 2,
   "id": "9ec59153",
   "metadata": {},
   "outputs": [],
   "source": [
    "data_path = \"./data/\"\n",
    "data_url_prefix = \"https://raw.githubusercontent.com/Senzing/truth-sets/refs/heads/main/truthsets/demo/\"\n",
    "data_filenames = [\n",
    "    \"customers.json\",\n",
    "    \"reference.json\",\n",
    "    \"watchlist.json\",\n",
    "]"
   ]
  },
  {
   "cell_type": "code",
   "execution_count": 3,
   "id": "ccf680c3",
   "metadata": {},
   "outputs": [],
   "source": [
    "os.makedirs(data_path, exist_ok=True)\n",
    "\n",
    "for filename in data_filenames:\n",
    "    url = data_url_prefix + filename\n",
    "    filepath = data_path + filename\n",
    "    if not os.path.exists(filepath):\n",
    "        response = requests.get(url, stream=True, timeout=10)\n",
    "        response.raw.decode_content = True\n",
    "        with open(filepath, \"wb\") as file:\n",
    "            shutil.copyfileobj(response.raw, file)"
   ]
  },
  {
   "cell_type": "markdown",
   "id": "ca643f26",
   "metadata": {},
   "source": [
    "## Load data into Spark DataFrames\n"
   ]
  },
  {
   "cell_type": "markdown",
   "id": "111e97a4",
   "metadata": {},
   "source": [
    "First, we'll start a new Spark session."
   ]
  },
  {
   "cell_type": "code",
   "execution_count": 3,
   "id": "81a8d554",
   "metadata": {},
   "outputs": [
    {
     "name": "stderr",
     "output_type": "stream",
     "text": [
      "WARNING: Using incubator modules: jdk.incubator.vector\n",
      "Using Spark's default log4j profile: org/apache/spark/log4j2-defaults.properties\n",
      "25/07/21 16:35:12 WARN Utils: Your hostname, Catherines-MacBook-Air-2.local, resolves to a loopback address: 127.0.0.1; using 192.168.0.4 instead (on interface en0)\n",
      "25/07/21 16:35:12 WARN Utils: Set SPARK_LOCAL_IP if you need to bind to another address\n",
      "Using Spark's default log4j profile: org/apache/spark/log4j2-defaults.properties\n",
      "Setting default log level to \"WARN\".\n",
      "To adjust logging level use sc.setLogLevel(newLevel). For SparkR, use setLogLevel(newLevel).\n",
      "25/07/21 16:35:13 WARN NativeCodeLoader: Unable to load native-hadoop library for your platform... using builtin-java classes where applicable\n"
     ]
    }
   ],
   "source": [
    "spark = (\n",
    "    SparkSession.builder.appName(\"Senzing Quickstart\").master(\"local[*]\").config(\"spark.driver.bindAddress\", \"127.0.0.1\").getOrCreate()\n",
    ")"
   ]
  },
  {
   "cell_type": "markdown",
   "id": "136cba04",
   "metadata": {},
   "source": [
    "Next, we'll load the three datasets from JSON files into Spark dataframes."
   ]
  },
  {
   "cell_type": "code",
   "execution_count": 4,
   "id": "81cac0db",
   "metadata": {},
   "outputs": [
    {
     "name": "stderr",
     "output_type": "stream",
     "text": [
      "                                                                                \r"
     ]
    }
   ],
   "source": [
    "customers = spark.read.json(\"data/customers.json\")"
   ]
  },
  {
   "cell_type": "code",
   "execution_count": 5,
   "id": "83d797f3",
   "metadata": {},
   "outputs": [
    {
     "name": "stderr",
     "output_type": "stream",
     "text": [
      "25/07/21 16:35:18 WARN SparkStringUtils: Truncated the string representation of a plan since it was too large. This behavior can be adjusted by setting 'spark.sql.debug.maxToStringFields'.\n"
     ]
    },
    {
     "name": "stdout",
     "output_type": "stream",
     "text": [
      "+-------------+------------+---------+--------------------+----------------+----------+---------+------+--------+-----------+-------+-------------+----------------------+---------------------+------------------+------+-------------------+------------------+----------------+----------------+---------------+------------+----------+------------------+-----------------+-----------------+-------------------+----------------+---------+-----------+------------------+-----------+----------+\n",
      "|    ADDR_CITY|ADDR_COUNTRY|ADDR_FULL|          ADDR_LINE1|ADDR_POSTAL_CODE|ADDR_STATE|ADDR_TYPE|AMOUNT|CATEGORY|DATA_SOURCE|   DATE|DATE_OF_BIRTH|DRIVERS_LICENSE_NUMBER|DRIVERS_LICENSE_STATE|     EMAIL_ADDRESS|GENDER|NATIONAL_ID_COUNTRY|NATIONAL_ID_NUMBER|NATIVE_NAME_FULL|PASSPORT_COUNTRY|PASSPORT_NUMBER|PHONE_NUMBER|PHONE_TYPE|PRIMARY_NAME_FIRST|PRIMARY_NAME_FULL|PRIMARY_NAME_LAST|PRIMARY_NAME_MIDDLE|PRIMARY_NAME_ORG|RECORD_ID|RECORD_TYPE|SECONDARY_NAME_ORG| SSN_NUMBER|    STATUS|\n",
      "+-------------+------------+---------+--------------------+----------------+----------+---------+------+--------+-----------+-------+-------------+----------------------+---------------------+------------------+------+-------------------+------------------+----------------+----------------+---------------+------------+----------+------------------+-----------------+-----------------+-------------------+----------------+---------+-----------+------------------+-----------+----------+\n",
      "|         NULL|        NULL|     NULL|123 Main Street, ...|            NULL|      NULL|  MAILING|   100|    NULL|  CUSTOMERS| 1/2/18|   12/11/1978|                  NULL|                 NULL|   bsmith@work.com|  NULL|               NULL|              NULL|            NULL|            NULL|           NULL|702-919-1300|      HOME|            Robert|             NULL|            Smith|               NULL|            NULL|     1001|     PERSON|              NULL|       NULL|    Active|\n",
      "|    Las Vegas|        NULL|     NULL|     1515 Adela Lane|           89111|        NV|     HOME|   200|    NULL|  CUSTOMERS|3/10/17|   11/12/1978|                  NULL|                 NULL|              NULL|  NULL|               NULL|              NULL|            NULL|            NULL|           NULL|702-919-1300|    MOBILE|               Bob|             NULL|            Smith|               NULL|            NULL|     1002|     PERSON|              NULL|       NULL|  Inactive|\n",
      "|         NULL|        NULL|     NULL|                NULL|            NULL|      NULL|     NULL|   300|    NULL|  CUSTOMERS| 4/9/16|   12/11/1978|                  NULL|                 NULL|   bsmith@work.com|  NULL|               NULL|              NULL|            NULL|            NULL|           NULL|        NULL|      NULL|               Bob|             NULL|            Smith|                  J|            NULL|     1003|     PERSON|              NULL|       NULL|  Inactive|\n",
      "|    Las Vegas|        NULL|     NULL|       1515 Adela Ln|           89132|        NV|     HOME|   400|    NULL|  CUSTOMERS| 1/5/15|   11/12/1979|                  NULL|                 NULL|   bsmith@work.com|  NULL|               NULL|              NULL|            NULL|            NULL|           NULL|        NULL|      NULL|                 B|             NULL|            Smith|               NULL|            NULL|     1004|     PERSON|              NULL|       NULL|  Inactive|\n",
      "|    Henderson|        NULL|     NULL|       123 E Main St|           89132|        NV|  MAILING|   500|    NULL|  CUSTOMERS|7/16/19|         NULL|                112233|                   NV|              NULL|  NULL|               NULL|              NULL|            NULL|            NULL|           NULL|        NULL|      NULL|            Robbie|             NULL|            Smith|               NULL|            NULL|     1005|     PERSON|              NULL|       NULL|    Active|\n",
      "|    Blacklick|        NULL|     NULL| 1304 Poppy Hills Dr|           43004|        OH|     HOME|   600|    NULL|  CUSTOMERS| 1/7/18|     3/1/1970|                  NULL|                 NULL|Kusha123@hmail.com|  NULL|               NULL|              NULL|            NULL|            NULL|           NULL|        NULL|      NULL|            Edward|             NULL|            Kusha|               NULL|            NULL|     1009|     PERSON|              NULL|294-66-9999|    Active|\n",
      "|    Blacklick|        NULL|     NULL| 1304 Poppy Hills Dr|            NULL|      OHIO|     HOME|   700|    NULL|  CUSTOMERS| 1/8/16|   Mar 1 1970|                  NULL|                 NULL|              NULL|  NULL|               NULL|              NULL|            NULL|            NULL|           NULL|        NULL|      NULL|             Eddie|             NULL|            Kusha|               NULL|            NULL|     1010|     PERSON|              NULL|       NULL|  Inactive|\n",
      "|San Francisco|        NULL|     NULL|   1602 Brenville Pl|           94105|        CA|     HOME|   800|    NULL|  CUSTOMERS|10/9/15|       3/1/70|                  NULL|                 NULL|              NULL|  NULL|               NULL|              NULL|            NULL|            NULL|           NULL|        NULL|      NULL|                Ed|             NULL|           Knight|               NULL|            NULL|     1011|     PERSON|              NULL|       NULL|Terminated|\n",
      "|    Blacklick|        NULL|     NULL| 1304 Poppy Hills Dr|           43004|        OH|     HOME|   900|    NULL|  CUSTOMERS|1/10/18|     10/27/76|                  NULL|                 NULL|Kusha123@hmail.com|  NULL|               NULL|              NULL|            NULL|            NULL|           NULL|512-353-8633|      HOME|             Mary |             NULL|            Kusha|               NULL|            NULL|     1015|     PERSON|              NULL|293-90-9090|    Active|\n",
      "|         NULL|        NULL|     NULL| 1304 Poppy Hills Dr|           43004|      NULL|     HOME|   100|    NULL|  CUSTOMERS|1/11/18|     10/27/76|                  NULL|                 NULL|              NULL|  NULL|               NULL|              NULL|            NULL|            NULL|           NULL|        NULL|      NULL|             Marie|             NULL|            Kusha|               NULL|            NULL|     1016|     PERSON|              NULL|       NULL|    Active|\n",
      "+-------------+------------+---------+--------------------+----------------+----------+---------+------+--------+-----------+-------+-------------+----------------------+---------------------+------------------+------+-------------------+------------------+----------------+----------------+---------------+------------+----------+------------------+-----------------+-----------------+-------------------+----------------+---------+-----------+------------------+-----------+----------+\n",
      "only showing top 10 rows\n"
     ]
    }
   ],
   "source": [
    "customers.show(10)"
   ]
  },
  {
   "cell_type": "markdown",
   "id": "189d6181",
   "metadata": {},
   "source": [
    "We can see that Robert Smith is in the dataset as Robert, Bob, B, and Robbie, with variations in mailing address and date of birth."
   ]
  },
  {
   "cell_type": "markdown",
   "id": "fb54c72c",
   "metadata": {},
   "source": [
    "Next, we'll load the `reference` and `watchlist` datasets."
   ]
  },
  {
   "cell_type": "code",
   "execution_count": 6,
   "id": "b14d7580",
   "metadata": {},
   "outputs": [],
   "source": [
    "reference = spark.read.json(\"data/reference.json\")"
   ]
  },
  {
   "cell_type": "code",
   "execution_count": 7,
   "id": "ee108709",
   "metadata": {},
   "outputs": [
    {
     "name": "stdout",
     "output_type": "stream",
     "text": [
      "+---------------+------------+--------------------+--------------------+----------------+----------+----------+--------------+-----------+----+-------------+-------------+--------------------+--------------------+----------------+----------+------------------+-----------------+-----------------+--------------------+---------+------------+--------------+---------------+----------------+------------------+--------+\n",
      "|      ADDR_CITY|ADDR_COUNTRY|           ADDR_FULL|          ADDR_LINE1|ADDR_POSTAL_CODE|ADDR_STATE| ADDR_TYPE|      CATEGORY|DATA_SOURCE|DATE|DATE_OF_BIRTH|EMAIL_ADDRESS|       EMPLOYER_NAME|    NATIVE_NAME_FULL|    PHONE_NUMBER|PHONE_TYPE|PRIMARY_NAME_FIRST|PRIMARY_NAME_FULL|PRIMARY_NAME_LAST|    PRIMARY_NAME_ORG|RECORD_ID| RECORD_TYPE|REL_ANCHOR_KEY|REL_POINTER_KEY|REL_POINTER_ROLE|SECONDARY_NAME_ORG|  STATUS|\n",
      "+---------------+------------+--------------------+--------------------+----------------+----------+----------+--------------+-----------+----+-------------+-------------+--------------------+--------------------+----------------+----------+------------------+-----------------+-----------------+--------------------+---------+------------+--------------+---------------+----------------+------------------+--------+\n",
      "|      SINGAPORE|   Singapore|                NULL|     4 Hillview Rise|          667979|      NULL|REGISTERED|Proprietorship|  REFERENCE|2010|         NULL|         NULL|                NULL|                NULL|            NULL|      NULL|              NULL|             NULL|             NULL|      Hajah Maimunah|     2012|ORGANIZATION|          2011|           NULL|            NULL|              NULL|  Active|\n",
      "|           NULL|        NULL|                NULL|                NULL|            NULL|      NULL|      NULL|         Owner|  REFERENCE|NULL|   1993-09-14|         NULL|                NULL|                NULL|            NULL|      NULL|              NULL|         Wang Jie|             NULL|                NULL|     2013|      PERSON|          NULL|           2011|        Owns 60%|              NULL| Current|\n",
      "|           NULL|        NULL|                NULL|                NULL|            NULL|      NULL|      NULL|         Owner|  REFERENCE|NULL|   1997-09-14|         NULL|                NULL|                NULL|            NULL|      NULL|              NULL|         Wang Wei|             NULL|                NULL|     2014|      PERSON|          NULL|           2011|        Owns 40%|              NULL| Current|\n",
      "|Rheinland-Pfalz|     Germany|                NULL| Hardenbergstraße 87|           66879|      NULL|   PRIMARY|   Partnership|  REFERENCE|2009|         NULL|         NULL|                NULL|                NULL|            NULL|      NULL|              NULL|             NULL|             NULL|        Müllenkranz |     2041|ORGANIZATION|          2041|           NULL|            NULL|         Autowerkz|Inactive|\n",
      "|         Lahore|    Pakistan|                NULL|Jia Musa Shahdara...|            NULL|      NULL|      HOME|     President|  REFERENCE|NULL|         NULL|         NULL|         Müllenkranz|                NULL|  +92 42-7925774|      NULL|              NULL|  Faisal Siddiqui|             NULL|                NULL|     2051|      PERSON|          NULL|           2041|       President|              NULL| Current|\n",
      "|           NULL|         RUS|Tolmacheva Ul., b...|                NULL|            NULL|      NULL|      NULL|         Owner|  REFERENCE|NULL|         NULL|         NULL|         Müllenkranz|ВАСІЛЬЕЎ, Аляксан...|+7(4812)85-62-34|   PRIMARY|              NULL|             NULL|             NULL|                NULL|     2061|      PERSON|          NULL|           2041|       Owns 100%|              NULL| Current|\n",
      "|           NULL|        NULL|Hughes Plaza, 100...|                NULL|            NULL|      NULL|  BUSINESS|   Corporation|  REFERENCE|1990|         NULL|         NULL|                NULL|                NULL|    800-111-1234|      NULL|              NULL|             NULL|             NULL|Universal Exports...|     2071|ORGANIZATION|          2071|           2074|   Global Parent| Universal Exports|  Active|\n",
      "|      Manhattan|        NULL|                NULL|405 Lexington Avenue|           10174|        NY|REGISTERED|   Corporation|  REFERENCE|1990|         NULL|         NULL|                NULL|                NULL|            NULL|      NULL|              NULL|             NULL|             NULL|Universal Exports...|     2074|ORGANIZATION|          2074|           NULL|            NULL| Universal Exports|  Active|\n",
      "|           NULL|        NULL|                NULL|                NULL|            NULL|      NULL|      NULL|         Owner|  REFERENCE|NULL|         NULL|         NULL|Universal Exports...|                NULL|            NULL|      NULL|              NULL|   Howard Hughess|             NULL|                NULL|     2081|      PERSON|          NULL|           2074|        Owns 50%|              NULL| Current|\n",
      "|           NULL|        NULL|                NULL|                NULL|            NULL|      NULL|      NULL|         Owner|  REFERENCE|NULL|         NULL|         NULL|Universal Exports...|                NULL|            NULL|      NULL|              NULL| Margaret Charney|             NULL|                NULL|     2091|      PERSON|          NULL|           2074|        Owns 50%|              NULL| Current|\n",
      "+---------------+------------+--------------------+--------------------+----------------+----------+----------+--------------+-----------+----+-------------+-------------+--------------------+--------------------+----------------+----------+------------------+-----------------+-----------------+--------------------+---------+------------+--------------+---------------+----------------+------------------+--------+\n",
      "only showing top 10 rows\n"
     ]
    }
   ],
   "source": [
    "reference.show(10)"
   ]
  },
  {
   "cell_type": "code",
   "execution_count": 8,
   "id": "4595c698",
   "metadata": {},
   "outputs": [],
   "source": [
    "watchlist = spark.read.json(\"data/watchlist.json\")"
   ]
  },
  {
   "cell_type": "code",
   "execution_count": 9,
   "id": "f8b62c28",
   "metadata": {},
   "outputs": [
    {
     "name": "stdout",
     "output_type": "stream",
     "text": [
      "+-------------+------------+--------------------+----------------+----------+---------+--------+-----------+------+-------------+----------------------+---------------------+--------------------+-------------+------+----------------+------------+------------------+-----------------+-----------------+-------------------+---------+-----------+-----------+--------+\n",
      "|    ADDR_CITY|ADDR_COUNTRY|          ADDR_LINE1|ADDR_POSTAL_CODE|ADDR_STATE|ADDR_TYPE|CATEGORY|DATA_SOURCE|  DATE|DATE_OF_BIRTH|DRIVERS_LICENSE_NUMBER|DRIVERS_LICENSE_STATE|       EMAIL_ADDRESS|EMPLOYER_NAME|GENDER|NATIVE_NAME_FULL|PHONE_NUMBER|PRIMARY_NAME_FIRST|PRIMARY_NAME_FULL|PRIMARY_NAME_LAST|PRIMARY_NAME_MIDDLE|RECORD_ID|RECORD_TYPE| SSN_NUMBER|  STATUS|\n",
      "+-------------+------------+--------------------+----------------+----------+---------+--------+-----------+------+-------------+----------------------+---------------------+--------------------+-------------+------+----------------+------------+------------------+-----------------+-----------------+-------------------+---------+-----------+-----------+--------+\n",
      "|         NULL|        NULL|123 Main St, Las ...|            NULL|      NULL|  MAILING|   Fraud|  WATCHLIST|1/3/17|    3/31/1954|                112233|                   NV|                NULL|         NULL|  NULL|            NULL|        NULL|            Robert|             NULL|         Smith Sr|                  E|     1006|     PERSON|       NULL|  Active|\n",
      "|         NULL|        NULL|1515 Adela Ln, LV...|           89132|      NULL|     HOME|   Fraud|  WATCHLIST|2/4/20|         NULL|                  NULL|                 NULL|    psmith@email.com|         NULL|  NULL|            NULL|        NULL|          Patricia|             NULL|            Smith|               NULL|     1007|     PERSON|       NULL|  Active|\n",
      "|         NULL|        NULL|                NULL|            NULL|      NULL|     NULL|   Fraud|  WATCHLIST|3/5/19|         NULL|                  NULL|                 NULL|robert.smith@emai...|         NULL|  NULL|            NULL|        NULL|            Robert|             NULL|            Smith|               NULL|     1008|     PERSON|       NULL|  Active|\n",
      "|San Francisco|        NULL|1602 Brenville Pl...|           94105|        CA|  MAILING|   Fraud|  WATCHLIST|4/6/19|     3/1/1970|                  NULL|                 NULL|                NULL|         NULL|  NULL|            NULL|        NULL|             Eddie|             NULL|            Kusha|               NULL|     1012|     PERSON|       NULL|  Active|\n",
      "|San Francisco|        NULL|    160 Brenville Pl|           94105|        CA|  MAILING|   Fraud|  WATCHLIST|5/7/15|       3/1/70|                  NULL|                 NULL|                NULL|         NULL|  NULL|            NULL|        NULL|             Eddie|             NULL|           Knight|               NULL|     1014|     PERSON|294-66-9999|Inactive|\n",
      "|    Blacklick|        NULL| 1304 Poppy Hills Dr|           43004|        OH|     HOME|   Fraud|  WATCHLIST|6/8/16|         NULL|                  NULL|                 NULL|  Kusha123@hmail.com|         NULL|  NULL|            NULL|        NULL|              NULL|             NULL|             NULL|               NULL|     1021|     PERSON|201-77-7719|  Active|\n",
      "|         NULL|        NULL|                NULL|            NULL|      NULL|     NULL|   Fraud|  WATCHLIST|7/9/18|       1/7/80|                  NULL|                 NULL|                NULL|         NULL|  NULL|            NULL|        NULL|               Mhd|             NULL|           Antoun|               NULL|     1024|     PERSON|       NULL|  Active|\n",
      "|         NULL|        NULL|                NULL|            NULL|      NULL|     NULL|   Fraud|  WATCHLIST|3/5/19|       1/7/80|                  NULL|                 NULL|                NULL|         NULL|  NULL|            NULL|        NULL|          Darletta|             NULL|         Anderson|               NULL|     1027|     PERSON|       NULL|  Active|\n",
      "|    Arlington|        NULL|Suite 900, 1450 N...|           23208|      NULL|     HOME|   Fraud|  WATCHLIST|4/6/20|         NULL|                  NULL|                 NULL|                NULL|         NULL|  NULL|            NULL|        NULL|             David|             NULL|   Dobbins Senior|               NULL|     1029|     PERSON|       NULL|  Active|\n",
      "|         NULL|        NULL|                NULL|            NULL|      NULL|     NULL|   Fraud|  WATCHLIST|5/7/15|     12/11/73|                  NULL|                 NULL|                NULL|         NULL|  NULL|            NULL|        NULL|             Maria|             NULL|          Sentosa|               NULL|     1037|     PERSON|       NULL|  Active|\n",
      "+-------------+------------+--------------------+----------------+----------+---------+--------+-----------+------+-------------+----------------------+---------------------+--------------------+-------------+------+----------------+------------+------------------+-----------------+-----------------+-------------------+---------+-----------+-----------+--------+\n",
      "only showing top 10 rows\n"
     ]
    }
   ],
   "source": [
    "watchlist.show(10)"
   ]
  },
  {
   "cell_type": "markdown",
   "id": "32b99d78",
   "metadata": {},
   "source": [
    "All three datasets have already been mapped to the [Senzing Entity Specification](https://www.senzing.com/docs/entity_specification/index.html). If you want to use your own data with Senzing, you'll need to map your data to this format."
   ]
  },
  {
   "cell_type": "markdown",
   "id": "e7e185bd",
   "metadata": {},
   "source": [
    "## Configure Senzing"
   ]
  },
  {
   "cell_type": "markdown",
   "id": "6d8b910b",
   "metadata": {},
   "source": [
    "Next, we need to set everything up so that we can call the Senzing engine on the gRPC server. These steps assume that you're running Senzing locally for development purposes."
   ]
  },
  {
   "cell_type": "markdown",
   "id": "f4a86288",
   "metadata": {},
   "source": [
    "Senzing uses an [Abstract Factory](https://garage.senzing.com/sz-sdk-python/senzing.html#module-senzing.szabstractfactory) to create everything that's required to perform entity resolution. We'll create a new abstract factory like so:"
   ]
  },
  {
   "cell_type": "code",
   "execution_count": 10,
   "id": "f446a55e",
   "metadata": {},
   "outputs": [],
   "source": [
    "grpc_channel = grpc.insecure_channel(\"localhost:8261\")\n",
    "sz_abstract_factory = SzAbstractFactoryGrpc(grpc_channel)"
   ]
  },
  {
   "cell_type": "markdown",
   "id": "9f671e00",
   "metadata": {},
   "source": [
    "We'll get the Senzing version details to check connectivity and confirm everything is working."
   ]
  },
  {
   "cell_type": "code",
   "execution_count": 11,
   "id": "1ec6a775",
   "metadata": {},
   "outputs": [
    {
     "name": "stdout",
     "output_type": "stream",
     "text": [
      "{\n",
      "  \"PRODUCT_NAME\": \"Senzing SDK\",\n",
      "  \"VERSION\": \"4.0.0\",\n",
      "  \"BUILD_VERSION\": \"4.0.0.25184\",\n",
      "  \"BUILD_DATE\": \"2025-07-03\",\n",
      "  \"BUILD_NUMBER\": \"2025_07_03__16_38\",\n",
      "  \"COMPATIBILITY_VERSION\": {\n",
      "    \"CONFIG_VERSION\": \"11\"\n",
      "  },\n",
      "  \"SCHEMA_VERSION\": {\n",
      "    \"ENGINE_SCHEMA_VERSION\": \"4.0\",\n",
      "    \"MINIMUM_REQUIRED_SCHEMA_VERSION\": \"4.0\",\n",
      "    \"MAXIMUM_REQUIRED_SCHEMA_VERSION\": \"4.99\"\n",
      "  }\n",
      "}\n"
     ]
    }
   ],
   "source": [
    "sz_product = sz_abstract_factory.create_product()\n",
    "print(json.dumps(json.loads(sz_product.get_version()), indent=2))"
   ]
  },
  {
   "cell_type": "markdown",
   "id": "72edafe4",
   "metadata": {},
   "source": [
    "Next, we create the Senzing objects that we need: the configuration manager, the diagnostic in case of errors, and the engine that will perform entity resolution when we load our data."
   ]
  },
  {
   "cell_type": "code",
   "execution_count": 12,
   "id": "96d8e7a9",
   "metadata": {},
   "outputs": [],
   "source": [
    "sz_configmanager = sz_abstract_factory.create_configmanager()\n",
    "sz_diagnostic = sz_abstract_factory.create_diagnostic()\n",
    "sz_engine = sz_abstract_factory.create_engine()"
   ]
  },
  {
   "cell_type": "markdown",
   "id": "e40a710d",
   "metadata": {},
   "source": [
    "We create a new config and add the names of the data sources."
   ]
  },
  {
   "cell_type": "code",
   "execution_count": 13,
   "id": "7324336c",
   "metadata": {},
   "outputs": [],
   "source": [
    "config_id = sz_configmanager.get_default_config_id()\n",
    "sz_config = sz_configmanager.create_config_from_config_id(config_id)"
   ]
  },
  {
   "cell_type": "code",
   "execution_count": 14,
   "id": "c0a23e02",
   "metadata": {},
   "outputs": [],
   "source": [
    "for data_source in [\"CUSTOMERS\", \"REFERENCE\", \"WATCHLIST\"]:\n",
    "    sz_config.register_data_source(data_source)"
   ]
  },
  {
   "cell_type": "markdown",
   "id": "91f5aba2",
   "metadata": {},
   "source": [
    "And we replace the default config with our updated config:"
   ]
  },
  {
   "cell_type": "code",
   "execution_count": 15,
   "id": "1e23073d",
   "metadata": {},
   "outputs": [],
   "source": [
    "new_json_config = sz_config.export()\n",
    "new_config_id = sz_configmanager.register_config(new_json_config, \"Add example data\")\n",
    "sz_configmanager.replace_default_config_id(config_id, new_config_id)"
   ]
  },
  {
   "cell_type": "markdown",
   "id": "c06cb10b",
   "metadata": {},
   "source": [
    "Because we've changed the Senzing configuration, Senzing objects need to be updated. We do this by reinitializing with the new config."
   ]
  },
  {
   "cell_type": "code",
   "execution_count": 16,
   "id": "b54b6bd3",
   "metadata": {},
   "outputs": [],
   "source": [
    "sz_abstract_factory.reinitialize(new_config_id)"
   ]
  },
  {
   "cell_type": "markdown",
   "id": "8496e7a7",
   "metadata": {},
   "source": [
    "## Add records to Senzing"
   ]
  },
  {
   "cell_type": "markdown",
   "id": "221d486e",
   "metadata": {},
   "source": [
    "Now that the Senzing engine is set up, we can add our data. We do this using [`sz_engine.add_record()`](https://garage.senzing.com/sz-sdk-python/senzing.html#senzing.szengine.SzEngine.add_record), which adds a single record into the Senzing repository.\n",
    "\n",
    "This method has three required arguments:\n",
    "- `data_source_code`, the identifier that we assigned to each dataset when we added the datasets to the Senzing config. In this tutorial, it's one of ['CUSTOMERS', 'REFERENCE', 'WATCHLIST'].\n",
    "- `record_id`, a unique identifier for each record. This is the `RECORD_ID` column in our example datasets.\n",
    "- `record_definition`, which is the row (record) we're adding.\n",
    "\n",
    "So to simply add a record, we would use the following code:\n",
    "\n",
    "```\n",
    "sz_engine.add_record(record['DATA_SOURCE'],\n",
    "            record['RECORD_ID'],\n",
    "            record)"
   ]
  },
  {
   "cell_type": "markdown",
   "id": "291142a1",
   "metadata": {},
   "source": [
    "We'll add an [optional flag](https://senzing.com/docs/4_beta/flags/flags_add/index.html) so that the Senzing engine outputs the entity ID that is affected when we add each row. Then we'll add this entity ID to a Python set (so that no duplicates are possible). We'll use this later on when we want to extract the details of related entities from Senzing.\n",
    "\n",
    "This is particularly useful when you're adding new data to a large existing dataset, and you only want to see what entities have been affected by the new records."
   ]
  },
  {
   "cell_type": "markdown",
   "id": "4aa5ccfe",
   "metadata": {},
   "source": [
    "We'll use Spark's local iterator to iterate through each row in each dataframe, convert each row into a dictionary, and add it to the Senzing repository. We'll extract the entity ID from the info printed out by Senzing:"
   ]
  },
  {
   "cell_type": "code",
   "execution_count": 17,
   "id": "0b06691a",
   "metadata": {},
   "outputs": [],
   "source": [
    "def get_affected_entities(info_string):\n",
    "    # helper function to extract the entity id\n",
    "    info = json.loads(info_string)\n",
    "    return [entity[\"ENTITY_ID\"] for entity in info[\"AFFECTED_ENTITIES\"]]"
   ]
  },
  {
   "cell_type": "code",
   "execution_count": 19,
   "id": "8d6836c4",
   "metadata": {},
   "outputs": [
    {
     "name": "stdout",
     "output_type": "stream",
     "text": [
      "{\"DATA_SOURCE\":\"CUSTOMERS\",\"RECORD_ID\":\"1001\",\"AFFECTED_ENTITIES\":[{\"ENTITY_ID\":1}]}\n",
      "{\"DATA_SOURCE\":\"CUSTOMERS\",\"RECORD_ID\":\"1002\",\"AFFECTED_ENTITIES\":[{\"ENTITY_ID\":1}]}\n",
      "{\"DATA_SOURCE\":\"CUSTOMERS\",\"RECORD_ID\":\"1003\",\"AFFECTED_ENTITIES\":[{\"ENTITY_ID\":1}]}\n",
      "{\"DATA_SOURCE\":\"CUSTOMERS\",\"RECORD_ID\":\"1004\",\"AFFECTED_ENTITIES\":[{\"ENTITY_ID\":1}]}\n",
      "{\"DATA_SOURCE\":\"CUSTOMERS\",\"RECORD_ID\":\"1005\",\"AFFECTED_ENTITIES\":[{\"ENTITY_ID\":1}]}\n",
      "{\"DATA_SOURCE\":\"CUSTOMERS\",\"RECORD_ID\":\"1009\",\"AFFECTED_ENTITIES\":[{\"ENTITY_ID\":6}]}\n",
      "{\"DATA_SOURCE\":\"CUSTOMERS\",\"RECORD_ID\":\"1010\",\"AFFECTED_ENTITIES\":[{\"ENTITY_ID\":6}]}\n",
      "{\"DATA_SOURCE\":\"CUSTOMERS\",\"RECORD_ID\":\"1011\",\"AFFECTED_ENTITIES\":[{\"ENTITY_ID\":8}]}\n",
      "{\"DATA_SOURCE\":\"CUSTOMERS\",\"RECORD_ID\":\"1015\",\"AFFECTED_ENTITIES\":[{\"ENTITY_ID\":9}]}\n",
      "{\"DATA_SOURCE\":\"CUSTOMERS\",\"RECORD_ID\":\"1016\",\"AFFECTED_ENTITIES\":[{\"ENTITY_ID\":9}]}\n",
      "{\"DATA_SOURCE\":\"CUSTOMERS\",\"RECORD_ID\":\"1017\",\"AFFECTED_ENTITIES\":[{\"ENTITY_ID\":9}]}\n",
      "{\"DATA_SOURCE\":\"CUSTOMERS\",\"RECORD_ID\":\"1018\",\"AFFECTED_ENTITIES\":[{\"ENTITY_ID\":9}]}\n",
      "{\"DATA_SOURCE\":\"CUSTOMERS\",\"RECORD_ID\":\"1019\",\"AFFECTED_ENTITIES\":[{\"ENTITY_ID\":13}]}\n",
      "{\"DATA_SOURCE\":\"CUSTOMERS\",\"RECORD_ID\":\"1020\",\"AFFECTED_ENTITIES\":[{\"ENTITY_ID\":14}]}\n",
      "{\"DATA_SOURCE\":\"CUSTOMERS\",\"RECORD_ID\":\"1022\",\"AFFECTED_ENTITIES\":[{\"ENTITY_ID\":15}]}\n",
      "{\"DATA_SOURCE\":\"CUSTOMERS\",\"RECORD_ID\":\"1023\",\"AFFECTED_ENTITIES\":[{\"ENTITY_ID\":15}]}\n",
      "{\"DATA_SOURCE\":\"CUSTOMERS\",\"RECORD_ID\":\"1025\",\"AFFECTED_ENTITIES\":[{\"ENTITY_ID\":17}]}\n",
      "{\"DATA_SOURCE\":\"CUSTOMERS\",\"RECORD_ID\":\"1026\",\"AFFECTED_ENTITIES\":[{\"ENTITY_ID\":18}]}\n",
      "{\"DATA_SOURCE\":\"CUSTOMERS\",\"RECORD_ID\":\"1028\",\"AFFECTED_ENTITIES\":[{\"ENTITY_ID\":19}]}\n",
      "{\"DATA_SOURCE\":\"CUSTOMERS\",\"RECORD_ID\":\"1030\",\"AFFECTED_ENTITIES\":[{\"ENTITY_ID\":20}]}\n",
      "{\"DATA_SOURCE\":\"CUSTOMERS\",\"RECORD_ID\":\"1031\",\"AFFECTED_ENTITIES\":[{\"ENTITY_ID\":20}]}\n",
      "{\"DATA_SOURCE\":\"CUSTOMERS\",\"RECORD_ID\":\"1032\",\"AFFECTED_ENTITIES\":[{\"ENTITY_ID\":22}]}\n",
      "{\"DATA_SOURCE\":\"CUSTOMERS\",\"RECORD_ID\":\"1033\",\"AFFECTED_ENTITIES\":[{\"ENTITY_ID\":22}]}\n",
      "{\"DATA_SOURCE\":\"CUSTOMERS\",\"RECORD_ID\":\"1034\",\"AFFECTED_ENTITIES\":[{\"ENTITY_ID\":24}]}\n",
      "{\"DATA_SOURCE\":\"CUSTOMERS\",\"RECORD_ID\":\"1035\",\"AFFECTED_ENTITIES\":[{\"ENTITY_ID\":24}]}\n",
      "{\"DATA_SOURCE\":\"CUSTOMERS\",\"RECORD_ID\":\"1036\",\"AFFECTED_ENTITIES\":[{\"ENTITY_ID\":24}]}\n",
      "{\"DATA_SOURCE\":\"CUSTOMERS\",\"RECORD_ID\":\"1039\",\"AFFECTED_ENTITIES\":[{\"ENTITY_ID\":27}]}\n",
      "{\"DATA_SOURCE\":\"CUSTOMERS\",\"RECORD_ID\":\"1040\",\"AFFECTED_ENTITIES\":[{\"ENTITY_ID\":28}]}\n",
      "{\"DATA_SOURCE\":\"CUSTOMERS\",\"RECORD_ID\":\"1043\",\"AFFECTED_ENTITIES\":[{\"ENTITY_ID\":29}]}\n",
      "{\"DATA_SOURCE\":\"CUSTOMERS\",\"RECORD_ID\":\"1044\",\"AFFECTED_ENTITIES\":[{\"ENTITY_ID\":30}]}\n",
      "{\"DATA_SOURCE\":\"CUSTOMERS\",\"RECORD_ID\":\"1045\",\"AFFECTED_ENTITIES\":[{\"ENTITY_ID\":31}]}\n",
      "{\"DATA_SOURCE\":\"CUSTOMERS\",\"RECORD_ID\":\"1046\",\"AFFECTED_ENTITIES\":[{\"ENTITY_ID\":30}]}\n",
      "{\"DATA_SOURCE\":\"CUSTOMERS\",\"RECORD_ID\":\"1047\",\"AFFECTED_ENTITIES\":[{\"ENTITY_ID\":33}]}\n",
      "{\"DATA_SOURCE\":\"CUSTOMERS\",\"RECORD_ID\":\"1048\",\"AFFECTED_ENTITIES\":[{\"ENTITY_ID\":33}]}\n",
      "{\"DATA_SOURCE\":\"CUSTOMERS\",\"RECORD_ID\":\"1049\",\"AFFECTED_ENTITIES\":[{\"ENTITY_ID\":33}]}\n",
      "{\"DATA_SOURCE\":\"CUSTOMERS\",\"RECORD_ID\":\"1050\",\"AFFECTED_ENTITIES\":[{\"ENTITY_ID\":36}]}\n",
      "{\"DATA_SOURCE\":\"CUSTOMERS\",\"RECORD_ID\":\"1051\",\"AFFECTED_ENTITIES\":[{\"ENTITY_ID\":36}]}\n",
      "{\"DATA_SOURCE\":\"CUSTOMERS\",\"RECORD_ID\":\"1052\",\"AFFECTED_ENTITIES\":[{\"ENTITY_ID\":36}]}\n",
      "{\"DATA_SOURCE\":\"CUSTOMERS\",\"RECORD_ID\":\"1053\",\"AFFECTED_ENTITIES\":[{\"ENTITY_ID\":39}]}\n",
      "{\"DATA_SOURCE\":\"CUSTOMERS\",\"RECORD_ID\":\"1054\",\"AFFECTED_ENTITIES\":[{\"ENTITY_ID\":40}]}\n",
      "{\"DATA_SOURCE\":\"CUSTOMERS\",\"RECORD_ID\":\"1055\",\"AFFECTED_ENTITIES\":[{\"ENTITY_ID\":39}]}\n",
      "{\"DATA_SOURCE\":\"CUSTOMERS\",\"RECORD_ID\":\"1056\",\"AFFECTED_ENTITIES\":[{\"ENTITY_ID\":40}]}\n",
      "{\"DATA_SOURCE\":\"CUSTOMERS\",\"RECORD_ID\":\"1057\",\"AFFECTED_ENTITIES\":[{\"ENTITY_ID\":43}]}\n",
      "{\"DATA_SOURCE\":\"CUSTOMERS\",\"RECORD_ID\":\"1058\",\"AFFECTED_ENTITIES\":[{\"ENTITY_ID\":44}]}\n",
      "{\"DATA_SOURCE\":\"CUSTOMERS\",\"RECORD_ID\":\"1059\",\"AFFECTED_ENTITIES\":[{\"ENTITY_ID\":45}]}\n",
      "{\"DATA_SOURCE\":\"CUSTOMERS\",\"RECORD_ID\":\"1060\",\"AFFECTED_ENTITIES\":[{\"ENTITY_ID\":45}]}\n",
      "{\"DATA_SOURCE\":\"CUSTOMERS\",\"RECORD_ID\":\"1061\",\"AFFECTED_ENTITIES\":[{\"ENTITY_ID\":47}]}\n",
      "{\"DATA_SOURCE\":\"CUSTOMERS\",\"RECORD_ID\":\"1062\",\"AFFECTED_ENTITIES\":[{\"ENTITY_ID\":47}]}\n",
      "{\"DATA_SOURCE\":\"CUSTOMERS\",\"RECORD_ID\":\"1063\",\"AFFECTED_ENTITIES\":[{\"ENTITY_ID\":49}]}\n",
      "{\"DATA_SOURCE\":\"CUSTOMERS\",\"RECORD_ID\":\"1064\",\"AFFECTED_ENTITIES\":[{\"ENTITY_ID\":49}]}\n",
      "{\"DATA_SOURCE\":\"CUSTOMERS\",\"RECORD_ID\":\"1065\",\"AFFECTED_ENTITIES\":[{\"ENTITY_ID\":49}]}\n",
      "{\"DATA_SOURCE\":\"CUSTOMERS\",\"RECORD_ID\":\"1066\",\"AFFECTED_ENTITIES\":[{\"ENTITY_ID\":49}]}\n",
      "{\"DATA_SOURCE\":\"CUSTOMERS\",\"RECORD_ID\":\"1067\",\"AFFECTED_ENTITIES\":[{\"ENTITY_ID\":49}]}\n",
      "{\"DATA_SOURCE\":\"CUSTOMERS\",\"RECORD_ID\":\"1068\",\"AFFECTED_ENTITIES\":[{\"ENTITY_ID\":49}]}\n",
      "{\"DATA_SOURCE\":\"CUSTOMERS\",\"RECORD_ID\":\"1069\",\"AFFECTED_ENTITIES\":[{\"ENTITY_ID\":55}]}\n",
      "{\"DATA_SOURCE\":\"CUSTOMERS\",\"RECORD_ID\":\"1070\",\"AFFECTED_ENTITIES\":[{\"ENTITY_ID\":55}]}\n",
      "{\"DATA_SOURCE\":\"CUSTOMERS\",\"RECORD_ID\":\"1071\",\"AFFECTED_ENTITIES\":[{\"ENTITY_ID\":57}]}\n",
      "{\"DATA_SOURCE\":\"CUSTOMERS\",\"RECORD_ID\":\"1072\",\"AFFECTED_ENTITIES\":[{\"ENTITY_ID\":57}]}\n",
      "{\"DATA_SOURCE\":\"CUSTOMERS\",\"RECORD_ID\":\"1073\",\"AFFECTED_ENTITIES\":[{\"ENTITY_ID\":59}]}\n",
      "{\"DATA_SOURCE\":\"CUSTOMERS\",\"RECORD_ID\":\"1074\",\"AFFECTED_ENTITIES\":[{\"ENTITY_ID\":59}]}\n",
      "{\"DATA_SOURCE\":\"CUSTOMERS\",\"RECORD_ID\":\"1075\",\"AFFECTED_ENTITIES\":[{\"ENTITY_ID\":61}]}\n",
      "{\"DATA_SOURCE\":\"CUSTOMERS\",\"RECORD_ID\":\"1076\",\"AFFECTED_ENTITIES\":[{\"ENTITY_ID\":61}]}\n",
      "{\"DATA_SOURCE\":\"CUSTOMERS\",\"RECORD_ID\":\"1077\",\"AFFECTED_ENTITIES\":[{\"ENTITY_ID\":63}]}\n",
      "{\"DATA_SOURCE\":\"CUSTOMERS\",\"RECORD_ID\":\"1078\",\"AFFECTED_ENTITIES\":[{\"ENTITY_ID\":63}]}\n",
      "{\"DATA_SOURCE\":\"CUSTOMERS\",\"RECORD_ID\":\"1079\",\"AFFECTED_ENTITIES\":[{\"ENTITY_ID\":65}]}\n",
      "{\"DATA_SOURCE\":\"CUSTOMERS\",\"RECORD_ID\":\"1080\",\"AFFECTED_ENTITIES\":[{\"ENTITY_ID\":65}]}\n",
      "{\"DATA_SOURCE\":\"CUSTOMERS\",\"RECORD_ID\":\"1081\",\"AFFECTED_ENTITIES\":[{\"ENTITY_ID\":67}]}\n",
      "{\"DATA_SOURCE\":\"CUSTOMERS\",\"RECORD_ID\":\"1082\",\"AFFECTED_ENTITIES\":[{\"ENTITY_ID\":67}]}\n",
      "{\"DATA_SOURCE\":\"CUSTOMERS\",\"RECORD_ID\":\"1083\",\"AFFECTED_ENTITIES\":[{\"ENTITY_ID\":69}]}\n",
      "{\"DATA_SOURCE\":\"CUSTOMERS\",\"RECORD_ID\":\"1084\",\"AFFECTED_ENTITIES\":[{\"ENTITY_ID\":69}]}\n",
      "{\"DATA_SOURCE\":\"CUSTOMERS\",\"RECORD_ID\":\"1085\",\"AFFECTED_ENTITIES\":[{\"ENTITY_ID\":71}]}\n",
      "{\"DATA_SOURCE\":\"CUSTOMERS\",\"RECORD_ID\":\"1086\",\"AFFECTED_ENTITIES\":[{\"ENTITY_ID\":71}]}\n",
      "{\"DATA_SOURCE\":\"CUSTOMERS\",\"RECORD_ID\":\"1087\",\"AFFECTED_ENTITIES\":[{\"ENTITY_ID\":73}]}\n",
      "{\"DATA_SOURCE\":\"CUSTOMERS\",\"RECORD_ID\":\"1088\",\"AFFECTED_ENTITIES\":[{\"ENTITY_ID\":73}]}\n",
      "{\"DATA_SOURCE\":\"CUSTOMERS\",\"RECORD_ID\":\"1089\",\"AFFECTED_ENTITIES\":[{\"ENTITY_ID\":75}]}\n",
      "{\"DATA_SOURCE\":\"CUSTOMERS\",\"RECORD_ID\":\"1090\",\"AFFECTED_ENTITIES\":[{\"ENTITY_ID\":76}]}\n",
      "{\"DATA_SOURCE\":\"CUSTOMERS\",\"RECORD_ID\":\"1091\",\"AFFECTED_ENTITIES\":[{\"ENTITY_ID\":77}]}\n",
      "{\"DATA_SOURCE\":\"CUSTOMERS\",\"RECORD_ID\":\"1092\",\"AFFECTED_ENTITIES\":[{\"ENTITY_ID\":77}]}\n",
      "{\"DATA_SOURCE\":\"CUSTOMERS\",\"RECORD_ID\":\"1093\",\"AFFECTED_ENTITIES\":[{\"ENTITY_ID\":79}]}\n",
      "{\"DATA_SOURCE\":\"CUSTOMERS\",\"RECORD_ID\":\"1094\",\"AFFECTED_ENTITIES\":[{\"ENTITY_ID\":79}]}\n",
      "{\"DATA_SOURCE\":\"CUSTOMERS\",\"RECORD_ID\":\"1095\",\"AFFECTED_ENTITIES\":[{\"ENTITY_ID\":81}]}\n",
      "{\"DATA_SOURCE\":\"CUSTOMERS\",\"RECORD_ID\":\"1096\",\"AFFECTED_ENTITIES\":[{\"ENTITY_ID\":81}]}\n",
      "{\"DATA_SOURCE\":\"CUSTOMERS\",\"RECORD_ID\":\"1097\",\"AFFECTED_ENTITIES\":[{\"ENTITY_ID\":83}]}\n",
      "{\"DATA_SOURCE\":\"CUSTOMERS\",\"RECORD_ID\":\"1098\",\"AFFECTED_ENTITIES\":[{\"ENTITY_ID\":83}]}\n",
      "{\"DATA_SOURCE\":\"CUSTOMERS\",\"RECORD_ID\":\"1099\",\"AFFECTED_ENTITIES\":[{\"ENTITY_ID\":85}]}\n",
      "{\"DATA_SOURCE\":\"CUSTOMERS\",\"RECORD_ID\":\"1100\",\"AFFECTED_ENTITIES\":[{\"ENTITY_ID\":85}]}\n",
      "{\"DATA_SOURCE\":\"CUSTOMERS\",\"RECORD_ID\":\"1101\",\"AFFECTED_ENTITIES\":[{\"ENTITY_ID\":87}]}\n",
      "{\"DATA_SOURCE\":\"CUSTOMERS\",\"RECORD_ID\":\"1102\",\"AFFECTED_ENTITIES\":[{\"ENTITY_ID\":87}]}\n",
      "{\"DATA_SOURCE\":\"CUSTOMERS\",\"RECORD_ID\":\"1103\",\"AFFECTED_ENTITIES\":[{\"ENTITY_ID\":89}]}\n",
      "{\"DATA_SOURCE\":\"CUSTOMERS\",\"RECORD_ID\":\"1104\",\"AFFECTED_ENTITIES\":[{\"ENTITY_ID\":89}]}\n",
      "{\"DATA_SOURCE\":\"CUSTOMERS\",\"RECORD_ID\":\"2011\",\"AFFECTED_ENTITIES\":[{\"ENTITY_ID\":91}]}\n",
      "{\"DATA_SOURCE\":\"CUSTOMERS\",\"RECORD_ID\":\"2031\",\"AFFECTED_ENTITIES\":[{\"ENTITY_ID\":92}]}\n",
      "{\"DATA_SOURCE\":\"CUSTOMERS\",\"RECORD_ID\":\"2032\",\"AFFECTED_ENTITIES\":[{\"ENTITY_ID\":93}]}\n",
      "{\"DATA_SOURCE\":\"CUSTOMERS\",\"RECORD_ID\":\"2042\",\"AFFECTED_ENTITIES\":[{\"ENTITY_ID\":94}]}\n",
      "{\"DATA_SOURCE\":\"CUSTOMERS\",\"RECORD_ID\":\"2063\",\"AFFECTED_ENTITIES\":[{\"ENTITY_ID\":95}]}\n",
      "{\"DATA_SOURCE\":\"CUSTOMERS\",\"RECORD_ID\":\"2072\",\"AFFECTED_ENTITIES\":[{\"ENTITY_ID\":96}]}\n",
      "{\"DATA_SOURCE\":\"CUSTOMERS\",\"RECORD_ID\":\"2073\",\"AFFECTED_ENTITIES\":[{\"ENTITY_ID\":97}]}\n",
      "{\"DATA_SOURCE\":\"CUSTOMERS\",\"RECORD_ID\":\"2142\",\"AFFECTED_ENTITIES\":[{\"ENTITY_ID\":98}]}\n",
      "{\"DATA_SOURCE\":\"CUSTOMERS\",\"RECORD_ID\":\"2152\",\"AFFECTED_ENTITIES\":[{\"ENTITY_ID\":99}]}\n",
      "{\"DATA_SOURCE\":\"CUSTOMERS\",\"RECORD_ID\":\"2171\",\"AFFECTED_ENTITIES\":[{\"ENTITY_ID\":100}]}\n",
      "{\"DATA_SOURCE\":\"CUSTOMERS\",\"RECORD_ID\":\"2172\",\"AFFECTED_ENTITIES\":[{\"ENTITY_ID\":100}]}\n",
      "{\"DATA_SOURCE\":\"CUSTOMERS\",\"RECORD_ID\":\"2181\",\"AFFECTED_ENTITIES\":[{\"ENTITY_ID\":102}]}\n",
      "{\"DATA_SOURCE\":\"CUSTOMERS\",\"RECORD_ID\":\"2182\",\"AFFECTED_ENTITIES\":[{\"ENTITY_ID\":103}]}\n",
      "{\"DATA_SOURCE\":\"CUSTOMERS\",\"RECORD_ID\":\"2191\",\"AFFECTED_ENTITIES\":[{\"ENTITY_ID\":104}]}\n",
      "{\"DATA_SOURCE\":\"CUSTOMERS\",\"RECORD_ID\":\"2192\",\"AFFECTED_ENTITIES\":[{\"ENTITY_ID\":105}]}\n",
      "{\"DATA_SOURCE\":\"CUSTOMERS\",\"RECORD_ID\":\"2193\",\"AFFECTED_ENTITIES\":[{\"ENTITY_ID\":105}]}\n",
      "{\"DATA_SOURCE\":\"CUSTOMERS\",\"RECORD_ID\":\"2201\",\"AFFECTED_ENTITIES\":[{\"ENTITY_ID\":107}]}\n",
      "{\"DATA_SOURCE\":\"CUSTOMERS\",\"RECORD_ID\":\"2202\",\"AFFECTED_ENTITIES\":[{\"ENTITY_ID\":108}]}\n",
      "{\"DATA_SOURCE\":\"CUSTOMERS\",\"RECORD_ID\":\"2203\",\"AFFECTED_ENTITIES\":[{\"ENTITY_ID\":109}]}\n",
      "{\"DATA_SOURCE\":\"CUSTOMERS\",\"RECORD_ID\":\"2204\",\"AFFECTED_ENTITIES\":[{\"ENTITY_ID\":110}]}\n",
      "{\"DATA_SOURCE\":\"CUSTOMERS\",\"RECORD_ID\":\"2205\",\"AFFECTED_ENTITIES\":[{\"ENTITY_ID\":111}]}\n",
      "{\"DATA_SOURCE\":\"CUSTOMERS\",\"RECORD_ID\":\"2206\",\"AFFECTED_ENTITIES\":[{\"ENTITY_ID\":112}]}\n",
      "{\"DATA_SOURCE\":\"CUSTOMERS\",\"RECORD_ID\":\"2207\",\"AFFECTED_ENTITIES\":[{\"ENTITY_ID\":113}]}\n",
      "{\"DATA_SOURCE\":\"CUSTOMERS\",\"RECORD_ID\":\"2208\",\"AFFECTED_ENTITIES\":[{\"ENTITY_ID\":114}]}\n",
      "{\"DATA_SOURCE\":\"CUSTOMERS\",\"RECORD_ID\":\"2209\",\"AFFECTED_ENTITIES\":[{\"ENTITY_ID\":115}]}\n",
      "{\"DATA_SOURCE\":\"CUSTOMERS\",\"RECORD_ID\":\"2210\",\"AFFECTED_ENTITIES\":[{\"ENTITY_ID\":116}]}\n",
      "{\"DATA_SOURCE\":\"CUSTOMERS\",\"RECORD_ID\":\"2211\",\"AFFECTED_ENTITIES\":[{\"ENTITY_ID\":117}]}\n",
      "{\"DATA_SOURCE\":\"CUSTOMERS\",\"RECORD_ID\":\"2212\",\"AFFECTED_ENTITIES\":[{\"ENTITY_ID\":118}]}\n",
      "{\"DATA_SOURCE\":\"CUSTOMERS\",\"RECORD_ID\":\"2213\",\"AFFECTED_ENTITIES\":[{\"ENTITY_ID\":113}]}\n",
      "{\"DATA_SOURCE\":\"CUSTOMERS\",\"RECORD_ID\":\"2214\",\"AFFECTED_ENTITIES\":[{\"ENTITY_ID\":120}]}\n",
      "{\"DATA_SOURCE\":\"REFERENCE\",\"RECORD_ID\":\"2012\",\"AFFECTED_ENTITIES\":[{\"ENTITY_ID\":91}]}\n",
      "{\"DATA_SOURCE\":\"REFERENCE\",\"RECORD_ID\":\"2013\",\"AFFECTED_ENTITIES\":[{\"ENTITY_ID\":55}]}\n",
      "{\"DATA_SOURCE\":\"REFERENCE\",\"RECORD_ID\":\"2014\",\"AFFECTED_ENTITIES\":[{\"ENTITY_ID\":57}]}\n",
      "{\"DATA_SOURCE\":\"REFERENCE\",\"RECORD_ID\":\"2041\",\"AFFECTED_ENTITIES\":[{\"ENTITY_ID\":94}]}\n",
      "{\"DATA_SOURCE\":\"REFERENCE\",\"RECORD_ID\":\"2051\",\"AFFECTED_ENTITIES\":[{\"ENTITY_ID\":125}]}\n",
      "{\"DATA_SOURCE\":\"REFERENCE\",\"RECORD_ID\":\"2061\",\"AFFECTED_ENTITIES\":[{\"ENTITY_ID\":126}]}\n",
      "{\"DATA_SOURCE\":\"REFERENCE\",\"RECORD_ID\":\"2071\",\"AFFECTED_ENTITIES\":[{\"ENTITY_ID\":96}]}\n",
      "{\"DATA_SOURCE\":\"REFERENCE\",\"RECORD_ID\":\"2074\",\"AFFECTED_ENTITIES\":[{\"ENTITY_ID\":97}]}\n",
      "{\"DATA_SOURCE\":\"REFERENCE\",\"RECORD_ID\":\"2081\",\"AFFECTED_ENTITIES\":[{\"ENTITY_ID\":129}]}\n",
      "{\"DATA_SOURCE\":\"REFERENCE\",\"RECORD_ID\":\"2091\",\"AFFECTED_ENTITIES\":[{\"ENTITY_ID\":130}]}\n",
      "{\"DATA_SOURCE\":\"REFERENCE\",\"RECORD_ID\":\"2101\",\"AFFECTED_ENTITIES\":[{\"ENTITY_ID\":131}]}\n",
      "{\"DATA_SOURCE\":\"REFERENCE\",\"RECORD_ID\":\"2102\",\"AFFECTED_ENTITIES\":[{\"ENTITY_ID\":131}]}\n",
      "{\"DATA_SOURCE\":\"REFERENCE\",\"RECORD_ID\":\"2111\",\"AFFECTED_ENTITIES\":[{\"ENTITY_ID\":133}]}\n",
      "{\"DATA_SOURCE\":\"REFERENCE\",\"RECORD_ID\":\"2112\",\"AFFECTED_ENTITIES\":[{\"ENTITY_ID\":133}]}\n",
      "{\"DATA_SOURCE\":\"REFERENCE\",\"RECORD_ID\":\"2121\",\"AFFECTED_ENTITIES\":[{\"ENTITY_ID\":135}]}\n",
      "{\"DATA_SOURCE\":\"REFERENCE\",\"RECORD_ID\":\"2122\",\"AFFECTED_ENTITIES\":[{\"ENTITY_ID\":135}]}\n",
      "{\"DATA_SOURCE\":\"REFERENCE\",\"RECORD_ID\":\"2131\",\"AFFECTED_ENTITIES\":[{\"ENTITY_ID\":137}]}\n",
      "{\"DATA_SOURCE\":\"REFERENCE\",\"RECORD_ID\":\"2132\",\"AFFECTED_ENTITIES\":[{\"ENTITY_ID\":137}]}\n",
      "{\"DATA_SOURCE\":\"REFERENCE\",\"RECORD_ID\":\"2141\",\"AFFECTED_ENTITIES\":[{\"ENTITY_ID\":98}]}\n",
      "{\"DATA_SOURCE\":\"REFERENCE\",\"RECORD_ID\":\"2151\",\"AFFECTED_ENTITIES\":[{\"ENTITY_ID\":140}]}\n",
      "{\"DATA_SOURCE\":\"REFERENCE\",\"RECORD_ID\":\"2161\",\"AFFECTED_ENTITIES\":[{\"ENTITY_ID\":141}]}\n",
      "{\"DATA_SOURCE\":\"REFERENCE\",\"RECORD_ID\":\"2162\",\"AFFECTED_ENTITIES\":[{\"ENTITY_ID\":141}]}\n",
      "{\"DATA_SOURCE\":\"WATCHLIST\",\"RECORD_ID\":\"1006\",\"AFFECTED_ENTITIES\":[{\"ENTITY_ID\":1},{\"ENTITY_ID\":5}]}\n",
      "{\"DATA_SOURCE\":\"WATCHLIST\",\"RECORD_ID\":\"1007\",\"AFFECTED_ENTITIES\":[{\"ENTITY_ID\":144}]}\n",
      "{\"DATA_SOURCE\":\"WATCHLIST\",\"RECORD_ID\":\"1008\",\"AFFECTED_ENTITIES\":[{\"ENTITY_ID\":145}]}\n",
      "{\"DATA_SOURCE\":\"WATCHLIST\",\"RECORD_ID\":\"1012\",\"AFFECTED_ENTITIES\":[{\"ENTITY_ID\":6}]}\n",
      "{\"DATA_SOURCE\":\"WATCHLIST\",\"RECORD_ID\":\"1014\",\"AFFECTED_ENTITIES\":[{\"ENTITY_ID\":6},{\"ENTITY_ID\":8}]}\n",
      "{\"DATA_SOURCE\":\"WATCHLIST\",\"RECORD_ID\":\"1021\",\"AFFECTED_ENTITIES\":[{\"ENTITY_ID\":14}]}\n",
      "{\"DATA_SOURCE\":\"WATCHLIST\",\"RECORD_ID\":\"1024\",\"AFFECTED_ENTITIES\":[{\"ENTITY_ID\":15}]}\n",
      "{\"DATA_SOURCE\":\"WATCHLIST\",\"RECORD_ID\":\"1027\",\"AFFECTED_ENTITIES\":[{\"ENTITY_ID\":150}]}\n",
      "{\"DATA_SOURCE\":\"WATCHLIST\",\"RECORD_ID\":\"1029\",\"AFFECTED_ENTITIES\":[{\"ENTITY_ID\":151}]}\n",
      "{\"DATA_SOURCE\":\"WATCHLIST\",\"RECORD_ID\":\"1037\",\"AFFECTED_ENTITIES\":[{\"ENTITY_ID\":152}]}\n",
      "{\"DATA_SOURCE\":\"WATCHLIST\",\"RECORD_ID\":\"1038\",\"AFFECTED_ENTITIES\":[{\"ENTITY_ID\":24}]}\n",
      "{\"DATA_SOURCE\":\"WATCHLIST\",\"RECORD_ID\":\"1041\",\"AFFECTED_ENTITIES\":[{\"ENTITY_ID\":154}]}\n",
      "{\"DATA_SOURCE\":\"WATCHLIST\",\"RECORD_ID\":\"1042\",\"AFFECTED_ENTITIES\":[{\"ENTITY_ID\":154}]}\n",
      "{\"DATA_SOURCE\":\"WATCHLIST\",\"RECORD_ID\":\"2052\",\"AFFECTED_ENTITIES\":[{\"ENTITY_ID\":125}]}\n",
      "{\"DATA_SOURCE\":\"WATCHLIST\",\"RECORD_ID\":\"2062\",\"AFFECTED_ENTITIES\":[{\"ENTITY_ID\":95},{\"ENTITY_ID\":126}]}\n",
      "{\"DATA_SOURCE\":\"WATCHLIST\",\"RECORD_ID\":\"2082\",\"AFFECTED_ENTITIES\":[{\"ENTITY_ID\":158}]}\n",
      "{\"DATA_SOURCE\":\"WATCHLIST\",\"RECORD_ID\":\"2092\",\"AFFECTED_ENTITIES\":[{\"ENTITY_ID\":130}]}\n"
     ]
    }
   ],
   "source": [
    "affected_entities = set()\n",
    "\n",
    "for data_source in [customers, reference, watchlist]:\n",
    "    for row in data_source.rdd.toLocalIterator():\n",
    "        record = {k: v for k, v in row.asDict().items() if v is not None}\n",
    "\n",
    "        info = sz_engine.add_record(\n",
    "            record[\"DATA_SOURCE\"],\n",
    "            record[\"RECORD_ID\"],\n",
    "            record,\n",
    "            szengineflags.SzEngineFlags.SZ_WITH_INFO,\n",
    "        )\n",
    "\n",
    "        affected_entities.update(get_affected_entities(info))\n",
    "        print(info)"
   ]
  },
  {
   "cell_type": "markdown",
   "id": "d16a3510",
   "metadata": {},
   "source": [
    "When each row is added, we'll see the details printed out. It should look like this for the first row:\n",
    "\n",
    "`{\"DATA_SOURCE\":\"CUSTOMERS\",\"RECORD_ID\":\"1001\",\"AFFECTED_ENTITIES\":[{\"ENTITY_ID\":1}]}`"
   ]
  },
  {
   "cell_type": "code",
   "execution_count": 20,
   "id": "e7f8f4b9",
   "metadata": {},
   "outputs": [
    {
     "name": "stdout",
     "output_type": "stream",
     "text": [
      "{1, 5, 6, 8, 9, 13, 14, 15, 17, 18, 19, 20, 22, 24, 27, 28, 29, 30, 31, 33, 36, 39, 40, 43, 44, 45, 47, 49, 55, 57, 59, 61, 63, 65, 67, 69, 71, 73, 75, 76, 77, 79, 81, 83, 85, 87, 89, 91, 92, 93, 94, 95, 96, 97, 98, 99, 100, 102, 103, 104, 105, 107, 108, 109, 110, 111, 112, 113, 114, 115, 116, 117, 118, 120, 125, 126, 129, 130, 131, 133, 135, 137, 140, 141, 144, 145, 150, 151, 152, 154, 158}\n"
     ]
    }
   ],
   "source": [
    "print(affected_entities)"
   ]
  },
  {
   "cell_type": "markdown",
   "id": "2b2a6667",
   "metadata": {},
   "source": [
    "## Process REDO records"
   ]
  },
  {
   "cell_type": "markdown",
   "id": "3637bfd6",
   "metadata": {},
   "source": [
    "The [redo process](https://senzing.zendesk.com/hc/en-us/articles/360007475133-Processing-REDO) in Senzing is a periodic cleanup of the entities in the Senzing repository. You'll need to run the redo process every so often when you're using Senzing with your own data.\n",
    "\n",
    "The most common use for this is when Senzing discovers a value is overused across entities. You might add 50 records with different names but the same phone number. At first, the shared phone number suggests that these entities are related, but at a certain point the system will spot that the phone number is no longer a good identifier. It will then create redo records in a separate table, and you can run the redo process to clean up the entities."
   ]
  },
  {
   "cell_type": "markdown",
   "id": "da98f1ca",
   "metadata": {},
   "source": [
    "We'll run the redo process using `sz_engine.get_redo_record()`, which gets each record in the redo table, and `sz_engine.process_redo_record()`, which cleans up the entities based on the redo record. Carrying out this process can generate more records in the redo table, so we'll run it in a `while` loop until there are no more redo records.\n",
    "\n",
    "We'll also use the `SZ_WITH_INFO` flag again to output the affected entities, and we'll update our set of affected entities with these entity IDs."
   ]
  },
  {
   "cell_type": "code",
   "execution_count": 21,
   "id": "d95d8aec",
   "metadata": {},
   "outputs": [
    {
     "name": "stdout",
     "output_type": "stream",
     "text": [
      "{\"DATA_SOURCE\":\"CUSTOMERS\",\"RECORD_ID\":\"2181\",\"AFFECTED_ENTITIES\":[{\"ENTITY_ID\":102}]}\n",
      "{\"DATA_SOURCE\":\"CUSTOMERS\",\"RECORD_ID\":\"2191\",\"AFFECTED_ENTITIES\":[{\"ENTITY_ID\":104}]}\n",
      "{\"DATA_SOURCE\":\"CUSTOMERS\",\"RECORD_ID\":\"2192\",\"AFFECTED_ENTITIES\":[{\"ENTITY_ID\":105}]}\n",
      "{\"DATA_SOURCE\":\"CUSTOMERS\",\"RECORD_ID\":\"2182\",\"AFFECTED_ENTITIES\":[{\"ENTITY_ID\":103}]}\n",
      "{\"DATA_SOURCE\":\"CUSTOMERS\",\"RECORD_ID\":\"2171\",\"AFFECTED_ENTITIES\":[{\"ENTITY_ID\":100},{\"ENTITY_ID\":101}]}\n"
     ]
    }
   ],
   "source": [
    "while True:\n",
    "    redo_record = sz_engine.get_redo_record()\n",
    "    if not redo_record:\n",
    "        break\n",
    "    info = sz_engine.process_redo_record(redo_record, flags=szengineflags.SzEngineFlags.SZ_WITH_INFO)\n",
    "    affected_entities.update(get_affected_entities(info))\n",
    "    print(info)"
   ]
  },
  {
   "cell_type": "markdown",
   "id": "cd16163c",
   "metadata": {},
   "source": [
    "### Take a look at some results"
   ]
  },
  {
   "cell_type": "markdown",
   "id": "c2a77589",
   "metadata": {},
   "source": [
    "Let's take a quick look at the entities found by Senzing. We know that there's someone named Robert Smith in the dataset, and we think their date of birth is 11/12/1978. We can look them up in the Senzing repository using `sz_engine.search_by_attributes`."
   ]
  },
  {
   "cell_type": "code",
   "execution_count": 22,
   "id": "f1ca0965",
   "metadata": {},
   "outputs": [
    {
     "name": "stdout",
     "output_type": "stream",
     "text": [
      "{\n",
      "  \"RESOLVED_ENTITIES\": [\n",
      "    {\n",
      "      \"MATCH_INFO\": {\n",
      "        \"MATCH_LEVEL_CODE\": \"RESOLVED\",\n",
      "        \"MATCH_KEY\": \"+NAME+DOB\",\n",
      "        \"ERRULE_CODE\": \"SNAME_SSTAB\",\n",
      "        \"CANDIDATE_KEYS\": {\n",
      "          \"DOB\": [\n",
      "            {\n",
      "              \"FEAT_ID\": 21,\n",
      "              \"FEAT_DESC\": \"11/12/1978\"\n",
      "            }\n",
      "          ],\n",
      "          \"NAMEDATE_KEY\": [\n",
      "            {\n",
      "              \"FEAT_ID\": 14,\n",
      "              \"FEAT_DESC\": \"RPRT|SM0|DOB.MMDD_HASH=1211\"\n",
      "            },\n",
      "            {\n",
      "              \"FEAT_ID\": 15,\n",
      "              \"FEAT_DESC\": \"RPRT|SM0|DOB=71211\"\n",
      "            },\n",
      "            {\n",
      "              \"FEAT_ID\": 30,\n",
      "              \"FEAT_DESC\": \"RPRT|SM0|DOB.MMYY_HASH=1178\"\n",
      "            }\n",
      "          ],\n",
      "          \"NAME_KEY\": [\n",
      "            {\n",
      "              \"FEAT_ID\": 6,\n",
      "              \"FEAT_DESC\": \"RPRT|SM0\"\n",
      "            }\n",
      "          ]\n",
      "        },\n",
      "        \"FEATURE_SCORES\": {\n",
      "          \"DOB\": [\n",
      "            {\n",
      "              \"INBOUND_FEAT_ID\": 21,\n",
      "              \"INBOUND_FEAT_DESC\": \"11/12/1978\",\n",
      "              \"CANDIDATE_FEAT_ID\": 21,\n",
      "              \"CANDIDATE_FEAT_DESC\": \"11/12/1978\",\n",
      "              \"SCORE\": 100,\n",
      "              \"ADDITIONAL_SCORES\": {\n",
      "                \"FULL_SCORE\": 100\n",
      "              },\n",
      "              \"SCORE_BUCKET\": \"SAME\",\n",
      "              \"SCORE_BEHAVIOR\": \"FMES\"\n",
      "            }\n",
      "          ],\n",
      "          \"NAME\": [\n",
      "            {\n",
      "              \"INBOUND_FEAT_ID\": -2,\n",
      "              \"INBOUND_FEAT_DESC\": \"robert smith\",\n",
      "              \"CANDIDATE_FEAT_ID\": 1,\n",
      "              \"CANDIDATE_FEAT_DESC\": \"Robert Smith\",\n",
      "              \"CANDIDATE_FEAT_USAGE_TYPE\": \"PRIMARY\",\n",
      "              \"SCORE\": 100,\n",
      "              \"ADDITIONAL_SCORES\": {\n",
      "                \"GNR_FN\": 100,\n",
      "                \"GNR_SN\": -1,\n",
      "                \"GNR_GN\": -1,\n",
      "                \"GENERATION_MATCH\": -1,\n",
      "                \"GNR_ON\": -1\n",
      "              },\n",
      "              \"SCORE_BUCKET\": \"SAME\",\n",
      "              \"SCORE_BEHAVIOR\": \"NAME\"\n",
      "            }\n",
      "          ]\n",
      "        }\n",
      "      },\n",
      "      \"ENTITY\": {\n",
      "        \"RESOLVED_ENTITY\": {\n",
      "          \"ENTITY_ID\": 1,\n",
      "          \"ENTITY_NAME\": \"Robert Smith\",\n",
      "          \"FEATURES\": {\n",
      "            \"ADDRESS\": [\n",
      "              {\n",
      "                \"FEAT_DESC\": \"1515 Adela Lane Las Vegas NV 89111\",\n",
      "                \"LIB_FEAT_ID\": 22,\n",
      "                \"USAGE_TYPE\": \"HOME\",\n",
      "                \"FEAT_DESC_VALUES\": [\n",
      "                  {\n",
      "                    \"FEAT_DESC\": \"1515 Adela Lane Las Vegas NV 89111\",\n",
      "                    \"LIB_FEAT_ID\": 22\n",
      "                  },\n",
      "                  {\n",
      "                    \"FEAT_DESC\": \"1515 Adela Ln Las Vegas NV 89132\",\n",
      "                    \"LIB_FEAT_ID\": 46\n",
      "                  }\n",
      "                ]\n",
      "              },\n",
      "              {\n",
      "                \"FEAT_DESC\": \"123 Main Street, Las Vegas NV 89132\",\n",
      "                \"LIB_FEAT_ID\": 3,\n",
      "                \"USAGE_TYPE\": \"MAILING\",\n",
      "                \"FEAT_DESC_VALUES\": [\n",
      "                  {\n",
      "                    \"FEAT_DESC\": \"123 Main Street, Las Vegas NV 89132\",\n",
      "                    \"LIB_FEAT_ID\": 3\n",
      "                  }\n",
      "                ]\n",
      "              }\n",
      "            ],\n",
      "            \"DOB\": [\n",
      "              {\n",
      "                \"FEAT_DESC\": \"11/12/1979\",\n",
      "                \"LIB_FEAT_ID\": 45,\n",
      "                \"FEAT_DESC_VALUES\": [\n",
      "                  {\n",
      "                    \"FEAT_DESC\": \"11/12/1979\",\n",
      "                    \"LIB_FEAT_ID\": 45\n",
      "                  }\n",
      "                ]\n",
      "              },\n",
      "              {\n",
      "                \"FEAT_DESC\": \"12/11/1978\",\n",
      "                \"LIB_FEAT_ID\": 2,\n",
      "                \"FEAT_DESC_VALUES\": [\n",
      "                  {\n",
      "                    \"FEAT_DESC\": \"12/11/1978\",\n",
      "                    \"LIB_FEAT_ID\": 2\n",
      "                  },\n",
      "                  {\n",
      "                    \"FEAT_DESC\": \"11/12/1978\",\n",
      "                    \"LIB_FEAT_ID\": 21\n",
      "                  }\n",
      "                ]\n",
      "              }\n",
      "            ],\n",
      "            \"EMAIL\": [\n",
      "              {\n",
      "                \"FEAT_DESC\": \"bsmith@work.com\",\n",
      "                \"LIB_FEAT_ID\": 5,\n",
      "                \"FEAT_DESC_VALUES\": [\n",
      "                  {\n",
      "                    \"FEAT_DESC\": \"bsmith@work.com\",\n",
      "                    \"LIB_FEAT_ID\": 5\n",
      "                  }\n",
      "                ]\n",
      "              }\n",
      "            ],\n",
      "            \"NAME\": [\n",
      "              {\n",
      "                \"FEAT_DESC\": \"B Smith\",\n",
      "                \"LIB_FEAT_ID\": 44,\n",
      "                \"USAGE_TYPE\": \"PRIMARY\",\n",
      "                \"FEAT_DESC_VALUES\": [\n",
      "                  {\n",
      "                    \"FEAT_DESC\": \"B Smith\",\n",
      "                    \"LIB_FEAT_ID\": 44\n",
      "                  }\n",
      "                ]\n",
      "              },\n",
      "              {\n",
      "                \"FEAT_DESC\": \"Robert Smith\",\n",
      "                \"LIB_FEAT_ID\": 1,\n",
      "                \"USAGE_TYPE\": \"PRIMARY\",\n",
      "                \"FEAT_DESC_VALUES\": [\n",
      "                  {\n",
      "                    \"FEAT_DESC\": \"Robert Smith\",\n",
      "                    \"LIB_FEAT_ID\": 1\n",
      "                  },\n",
      "                  {\n",
      "                    \"FEAT_DESC\": \"Bob J Smith\",\n",
      "                    \"LIB_FEAT_ID\": 38\n",
      "                  },\n",
      "                  {\n",
      "                    \"FEAT_DESC\": \"Bob Smith\",\n",
      "                    \"LIB_FEAT_ID\": 20\n",
      "                  }\n",
      "                ]\n",
      "              }\n",
      "            ],\n",
      "            \"PHONE\": [\n",
      "              {\n",
      "                \"FEAT_DESC\": \"702-919-1300\",\n",
      "                \"LIB_FEAT_ID\": 4,\n",
      "                \"USAGE_TYPE\": \"HOME\",\n",
      "                \"FEAT_DESC_VALUES\": [\n",
      "                  {\n",
      "                    \"FEAT_DESC\": \"702-919-1300\",\n",
      "                    \"LIB_FEAT_ID\": 4\n",
      "                  }\n",
      "                ]\n",
      "              },\n",
      "              {\n",
      "                \"FEAT_DESC\": \"702-919-1300\",\n",
      "                \"LIB_FEAT_ID\": 4,\n",
      "                \"USAGE_TYPE\": \"MOBILE\",\n",
      "                \"FEAT_DESC_VALUES\": [\n",
      "                  {\n",
      "                    \"FEAT_DESC\": \"702-919-1300\",\n",
      "                    \"LIB_FEAT_ID\": 4\n",
      "                  }\n",
      "                ]\n",
      "              }\n",
      "            ],\n",
      "            \"RECORD_TYPE\": [\n",
      "              {\n",
      "                \"FEAT_DESC\": \"PERSON\",\n",
      "                \"LIB_FEAT_ID\": 10,\n",
      "                \"FEAT_DESC_VALUES\": [\n",
      "                  {\n",
      "                    \"FEAT_DESC\": \"PERSON\",\n",
      "                    \"LIB_FEAT_ID\": 10\n",
      "                  }\n",
      "                ]\n",
      "              }\n",
      "            ]\n",
      "          },\n",
      "          \"RECORD_SUMMARY\": [\n",
      "            {\n",
      "              \"DATA_SOURCE\": \"CUSTOMERS\",\n",
      "              \"RECORD_COUNT\": 4\n",
      "            }\n",
      "          ]\n",
      "        }\n",
      "      }\n",
      "    },\n",
      "    {\n",
      "      \"MATCH_INFO\": {\n",
      "        \"MATCH_LEVEL_CODE\": \"POSSIBLY_SAME\",\n",
      "        \"MATCH_KEY\": \"+NAME\",\n",
      "        \"ERRULE_CODE\": \"SNAME\",\n",
      "        \"CANDIDATE_KEYS\": {\n",
      "          \"NAME_KEY\": [\n",
      "            {\n",
      "              \"FEAT_ID\": 6,\n",
      "              \"FEAT_DESC\": \"RPRT|SM0\"\n",
      "            }\n",
      "          ]\n",
      "        },\n",
      "        \"FEATURE_SCORES\": {\n",
      "          \"NAME\": [\n",
      "            {\n",
      "              \"INBOUND_FEAT_ID\": -2,\n",
      "              \"INBOUND_FEAT_DESC\": \"robert smith\",\n",
      "              \"CANDIDATE_FEAT_ID\": 1,\n",
      "              \"CANDIDATE_FEAT_DESC\": \"Robert Smith\",\n",
      "              \"CANDIDATE_FEAT_USAGE_TYPE\": \"PRIMARY\",\n",
      "              \"SCORE\": 100,\n",
      "              \"ADDITIONAL_SCORES\": {\n",
      "                \"GNR_FN\": 100,\n",
      "                \"GNR_SN\": -1,\n",
      "                \"GNR_GN\": -1,\n",
      "                \"GENERATION_MATCH\": -1,\n",
      "                \"GNR_ON\": -1\n",
      "              },\n",
      "              \"SCORE_BUCKET\": \"SAME\",\n",
      "              \"SCORE_BEHAVIOR\": \"NAME\"\n",
      "            }\n",
      "          ]\n",
      "        }\n",
      "      },\n",
      "      \"ENTITY\": {\n",
      "        \"RESOLVED_ENTITY\": {\n",
      "          \"ENTITY_ID\": 145,\n",
      "          \"ENTITY_NAME\": \"Robert Smith\",\n",
      "          \"FEATURES\": {\n",
      "            \"EMAIL\": [\n",
      "              {\n",
      "                \"FEAT_DESC\": \"robert.smith@email.com\",\n",
      "                \"LIB_FEAT_ID\": 1366,\n",
      "                \"FEAT_DESC_VALUES\": [\n",
      "                  {\n",
      "                    \"FEAT_DESC\": \"robert.smith@email.com\",\n",
      "                    \"LIB_FEAT_ID\": 1366\n",
      "                  }\n",
      "                ]\n",
      "              }\n",
      "            ],\n",
      "            \"NAME\": [\n",
      "              {\n",
      "                \"FEAT_DESC\": \"Robert Smith\",\n",
      "                \"LIB_FEAT_ID\": 1,\n",
      "                \"USAGE_TYPE\": \"PRIMARY\",\n",
      "                \"FEAT_DESC_VALUES\": [\n",
      "                  {\n",
      "                    \"FEAT_DESC\": \"Robert Smith\",\n",
      "                    \"LIB_FEAT_ID\": 1\n",
      "                  }\n",
      "                ]\n",
      "              }\n",
      "            ],\n",
      "            \"RECORD_TYPE\": [\n",
      "              {\n",
      "                \"FEAT_DESC\": \"PERSON\",\n",
      "                \"LIB_FEAT_ID\": 10,\n",
      "                \"FEAT_DESC_VALUES\": [\n",
      "                  {\n",
      "                    \"FEAT_DESC\": \"PERSON\",\n",
      "                    \"LIB_FEAT_ID\": 10\n",
      "                  }\n",
      "                ]\n",
      "              }\n",
      "            ]\n",
      "          },\n",
      "          \"RECORD_SUMMARY\": [\n",
      "            {\n",
      "              \"DATA_SOURCE\": \"WATCHLIST\",\n",
      "              \"RECORD_COUNT\": 1\n",
      "            }\n",
      "          ]\n",
      "        }\n",
      "      }\n",
      "    }\n",
      "  ],\n",
      "  \"SEARCH_STATISTICS\": [\n",
      "    {\n",
      "      \"CANDIDATE_KEYS\": {\n",
      "        \"FEATURE_TYPES\": [\n",
      "          {\n",
      "            \"FTYPE_CODE\": \"DOB\",\n",
      "            \"FOUND\": 1,\n",
      "            \"NOT_FOUND\": 0,\n",
      "            \"GENERIC\": 0\n",
      "          },\n",
      "          {\n",
      "            \"FTYPE_CODE\": \"NAME_KEY\",\n",
      "            \"FOUND\": 1,\n",
      "            \"NOT_FOUND\": 0,\n",
      "            \"GENERIC\": 0\n",
      "          },\n",
      "          {\n",
      "            \"FTYPE_CODE\": \"NAMEDATE_KEY\",\n",
      "            \"FOUND\": 3,\n",
      "            \"NOT_FOUND\": 0,\n",
      "            \"GENERIC\": 0\n",
      "          }\n",
      "        ],\n",
      "        \"SUMMARY\": {\n",
      "          \"FOUND\": 5,\n",
      "          \"NOT_FOUND\": 0,\n",
      "          \"GENERIC\": 0\n",
      "        }\n",
      "      }\n",
      "    }\n",
      "  ]\n",
      "}\n"
     ]
    }
   ],
   "source": [
    "search_query = {\n",
    "    \"name_full\": \"robert smith\",\n",
    "    \"date_of_birth\": \"11/12/1978\",\n",
    "}\n",
    "search_result = sz_engine.search_by_attributes(json.dumps(search_query))\n",
    "print(json.dumps(json.loads(search_result), indent=2))"
   ]
  },
  {
   "cell_type": "markdown",
   "id": "c33cbfd7",
   "metadata": {},
   "source": [
    "We can see all the information about the Robert Smith entity that is currently in the Senzing repository. This person is also in our datasets with the names \"B Smith\", \"Bob J Smith\" and \"Bob Smith\"."
   ]
  },
  {
   "cell_type": "markdown",
   "id": "7f3ab3fd",
   "metadata": {},
   "source": [
    "## Add resolved entities to the Spark dataframe"
   ]
  },
  {
   "cell_type": "markdown",
   "id": "340e24cf",
   "metadata": {},
   "source": [
    "Our final step in this tutorial is to add a new column to the `customers` dataframe containing a list of all the resolved entities found by Senzing.\n",
    "\n",
    "So if records 1001, 1002 and 1003 are linked to the same entity, we'll add the list [1002, 1003] to the row for record 1001.\n",
    "\n",
    "You could then use this information to merge rows in the original dataframe, but we won't cover this in the tutorial."
   ]
  },
  {
   "cell_type": "markdown",
   "id": "cc43431a",
   "metadata": {},
   "source": [
    "### Get entity mappings from Senzing\n"
   ]
  },
  {
   "cell_type": "markdown",
   "id": "7488ed2d",
   "metadata": {},
   "source": [
    "We'll use our list of affected entities to extract all the resolved entities, then we'll build a map from the entity ID to all the record IDs for that entity."
   ]
  },
  {
   "cell_type": "code",
   "execution_count": 23,
   "id": "e6ea16ef",
   "metadata": {},
   "outputs": [],
   "source": [
    "def get_records_for_entity(entity_id):\n",
    "    records = json.loads(sz_engine.get_entity_by_entity_id(entity_id))[\n",
    "        \"RESOLVED_ENTITY\"\n",
    "    ][\"RECORDS\"]\n",
    "    return [records[i][\"RECORD_ID\"] for i in range(len(records))]"
   ]
  },
  {
   "cell_type": "code",
   "execution_count": 27,
   "id": "5f611230",
   "metadata": {},
   "outputs": [],
   "source": [
    "# build entity to record map\n",
    "entity_to_record = {}\n",
    "for entity in affected_entities:\n",
    "    try:\n",
    "        entity_to_record[entity] = get_records_for_entity(entity)\n",
    "    except szerror.SzError:\n",
    "        entity_to_record[entity] = []"
   ]
  },
  {
   "cell_type": "markdown",
   "id": "5b2ad9ff",
   "metadata": {},
   "source": [
    "The first entries in this dictionary should look like this:\n",
    "\n",
    "```\n",
    "{1: ['1002', '1001', '1003', '1004'],\n",
    " 5: ['1005', '1006'],\n",
    " 6: ['1009', '1010', '1011', '1012', '1014'],\n",
    " ...`\n",
    "```"
   ]
  },
  {
   "cell_type": "code",
   "execution_count": 29,
   "id": "380318ec",
   "metadata": {},
   "outputs": [
    {
     "data": {
      "text/plain": [
       "{1: ['1002', '1001', '1003', '1004'],\n",
       " 5: ['1005', '1006'],\n",
       " 6: ['1009', '1010', '1011', '1012', '1014'],\n",
       " 8: [],\n",
       " 9: ['1015', '1016', '1017', '1018'],\n",
       " 13: ['1019'],\n",
       " 14: ['1020', '1021'],\n",
       " 15: ['1022', '1023', '1024'],\n",
       " 17: ['1025'],\n",
       " 18: ['1026'],\n",
       " 19: ['1028'],\n",
       " 20: ['1030', '1031'],\n",
       " 22: ['1032', '1033'],\n",
       " 24: ['1034', '1035', '1036', '1038'],\n",
       " 27: ['1039'],\n",
       " 28: ['1040'],\n",
       " 29: ['1043'],\n",
       " 30: ['1044', '1046'],\n",
       " 31: ['1045'],\n",
       " 33: ['1047', '1048', '1049'],\n",
       " 36: ['1050', '1051', '1052'],\n",
       " 39: ['1053', '1055'],\n",
       " 40: ['1054', '1056'],\n",
       " 43: ['1057'],\n",
       " 44: ['1058'],\n",
       " 45: ['1059', '1060'],\n",
       " 47: ['1061', '1062'],\n",
       " 49: ['1063', '1064', '1065', '1066', '1067', '1068'],\n",
       " 55: ['1069', '1070', '2013'],\n",
       " 57: ['1071', '1072', '2014'],\n",
       " 59: ['1073', '1074'],\n",
       " 61: ['1075', '1076'],\n",
       " 63: ['1077', '1078'],\n",
       " 65: ['1079', '1080'],\n",
       " 67: ['1081', '1082'],\n",
       " 69: ['1083', '1084'],\n",
       " 71: ['1085', '1086'],\n",
       " 73: ['1087', '1088'],\n",
       " 75: ['1089'],\n",
       " 76: ['1090'],\n",
       " 77: ['1091', '1092'],\n",
       " 79: ['1093', '1094'],\n",
       " 81: ['1095', '1096'],\n",
       " 83: ['1097', '1098'],\n",
       " 85: ['1099', '1100'],\n",
       " 87: ['1101', '1102'],\n",
       " 89: ['1103', '1104'],\n",
       " 91: ['2011', '2012'],\n",
       " 92: ['2031'],\n",
       " 93: ['2032'],\n",
       " 94: ['2042', '2041'],\n",
       " 95: ['2063', '2061', '2062'],\n",
       " 96: ['2072', '2071'],\n",
       " 97: ['2073', '2074'],\n",
       " 98: ['2142', '2141'],\n",
       " 99: ['2152'],\n",
       " 100: ['2171'],\n",
       " 101: ['2172'],\n",
       " 102: ['2181'],\n",
       " 103: ['2182'],\n",
       " 104: ['2191'],\n",
       " 105: ['2192', '2193'],\n",
       " 107: ['2201'],\n",
       " 108: ['2202'],\n",
       " 109: ['2203'],\n",
       " 110: ['2204'],\n",
       " 111: ['2205'],\n",
       " 112: ['2206'],\n",
       " 113: ['2207', '2213'],\n",
       " 114: ['2208'],\n",
       " 115: ['2209'],\n",
       " 116: ['2210'],\n",
       " 117: ['2211'],\n",
       " 118: ['2212'],\n",
       " 120: ['2214'],\n",
       " 125: ['2051', '2052'],\n",
       " 126: [],\n",
       " 129: ['2081'],\n",
       " 130: ['2091', '2092'],\n",
       " 131: ['2101', '2102'],\n",
       " 133: ['2111', '2112'],\n",
       " 135: ['2121', '2122'],\n",
       " 137: ['2131', '2132'],\n",
       " 140: ['2151'],\n",
       " 141: ['2161', '2162'],\n",
       " 144: ['1007'],\n",
       " 145: ['1008'],\n",
       " 150: ['1027'],\n",
       " 151: ['1029'],\n",
       " 152: ['1037'],\n",
       " 154: ['1041', '1042'],\n",
       " 158: ['2082']}"
      ]
     },
     "execution_count": 29,
     "metadata": {},
     "output_type": "execute_result"
    }
   ],
   "source": [
    "entity_to_record"
   ]
  },
  {
   "cell_type": "markdown",
   "id": "ffc9f5a6",
   "metadata": {},
   "source": [
    "## Join entity records to Spark DataFrame"
   ]
  },
  {
   "cell_type": "markdown",
   "id": "a9f1bce0",
   "metadata": {},
   "source": [
    "Our final step in this tutorial is to create a new column with details of all the rows that Senzing has resolved to the same entity."
   ]
  },
  {
   "cell_type": "markdown",
   "id": "e314b22e",
   "metadata": {},
   "source": [
    "To build this column, we'll first flatten the entity to record map and convert it to a new Spark dataframe:"
   ]
  },
  {
   "cell_type": "code",
   "execution_count": 30,
   "id": "b5107600",
   "metadata": {},
   "outputs": [],
   "source": [
    "entity_record_data = [\n",
    "    (entity_id, record_id)\n",
    "    for entity_id, records in entity_to_record.items()\n",
    "    for record_id in records\n",
    "]\n",
    "entity_record_df = spark.createDataFrame(entity_record_data, [\"ENTITY_ID\", \"RECORD_ID\"])"
   ]
  },
  {
   "cell_type": "markdown",
   "id": "493a8d99",
   "metadata": {},
   "source": [
    "Then, we'll group this new dataframe by the entity ID."
   ]
  },
  {
   "cell_type": "code",
   "execution_count": 31,
   "id": "70e19374",
   "metadata": {},
   "outputs": [],
   "source": [
    "entity_grouped = entity_record_df.groupBy(\"ENTITY_ID\").agg(\n",
    "    collect_list(\"RECORD_ID\").alias(\"ALL_RECORD_IDS\")\n",
    ")"
   ]
  },
  {
   "cell_type": "markdown",
   "id": "bb76c3bc",
   "metadata": {},
   "source": [
    "We'll join it to the original `customers` dataframe, and we'll also add a column with the entity ID for that row:"
   ]
  },
  {
   "cell_type": "code",
   "execution_count": 32,
   "id": "b4337e64",
   "metadata": {},
   "outputs": [],
   "source": [
    "customers = customers.join(entity_record_df, \"RECORD_ID\", \"left\")\n",
    "customers = customers.join(entity_grouped, \"ENTITY_ID\", \"left\")"
   ]
  },
  {
   "cell_type": "markdown",
   "id": "e865418b",
   "metadata": {},
   "source": [
    "And we'll make a new column without the original RECORD_ID:"
   ]
  },
  {
   "cell_type": "code",
   "execution_count": 33,
   "id": "a7a4c20c",
   "metadata": {},
   "outputs": [],
   "source": [
    "customers = customers.withColumn(\n",
    "    \"RELATED_RECORD_IDS\",\n",
    "    array_except(col(\"ALL_RECORD_IDS\"), array(col(\"RECORD_ID\").cast(\"string\"))),\n",
    ")"
   ]
  },
  {
   "cell_type": "code",
   "execution_count": 34,
   "id": "a38b596f",
   "metadata": {},
   "outputs": [
    {
     "name": "stderr",
     "output_type": "stream",
     "text": [
      "                                                                                \r"
     ]
    },
    {
     "name": "stdout",
     "output_type": "stream",
     "text": [
      "+---------+---------+-------------+------------+---------+-----------------------------------+----------------+----------+---------+------+--------+-----------+-------+-------------+----------------------+---------------------+------------------+------+-------------------+------------------+----------------+----------------+---------------+------------+----------+------------------+-----------------+-----------------+-------------------+----------------+-----------+------------------+-----------+----------+------------------------------+------------------------+\n",
      "|ENTITY_ID|RECORD_ID|ADDR_CITY    |ADDR_COUNTRY|ADDR_FULL|ADDR_LINE1                         |ADDR_POSTAL_CODE|ADDR_STATE|ADDR_TYPE|AMOUNT|CATEGORY|DATA_SOURCE|DATE   |DATE_OF_BIRTH|DRIVERS_LICENSE_NUMBER|DRIVERS_LICENSE_STATE|EMAIL_ADDRESS     |GENDER|NATIONAL_ID_COUNTRY|NATIONAL_ID_NUMBER|NATIVE_NAME_FULL|PASSPORT_COUNTRY|PASSPORT_NUMBER|PHONE_NUMBER|PHONE_TYPE|PRIMARY_NAME_FIRST|PRIMARY_NAME_FULL|PRIMARY_NAME_LAST|PRIMARY_NAME_MIDDLE|PRIMARY_NAME_ORG|RECORD_TYPE|SECONDARY_NAME_ORG|SSN_NUMBER |STATUS    |ALL_RECORD_IDS                |RELATED_RECORD_IDS      |\n",
      "+---------+---------+-------------+------------+---------+-----------------------------------+----------------+----------+---------+------+--------+-----------+-------+-------------+----------------------+---------------------+------------------+------+-------------------+------------------+----------------+----------------+---------------+------------+----------+------------------+-----------------+-----------------+-------------------+----------------+-----------+------------------+-----------+----------+------------------------------+------------------------+\n",
      "|1        |1001     |NULL         |NULL        |NULL     |123 Main Street, Las Vegas NV 89132|NULL            |NULL      |MAILING  |100   |NULL    |CUSTOMERS  |1/2/18 |12/11/1978   |NULL                  |NULL                 |bsmith@work.com   |NULL  |NULL               |NULL              |NULL            |NULL            |NULL           |702-919-1300|HOME      |Robert            |NULL             |Smith            |NULL               |NULL            |PERSON     |NULL              |NULL       |Active    |[1002, 1001, 1003, 1004]      |[1002, 1003, 1004]      |\n",
      "|1        |1002     |Las Vegas    |NULL        |NULL     |1515 Adela Lane                    |89111           |NV        |HOME     |200   |NULL    |CUSTOMERS  |3/10/17|11/12/1978   |NULL                  |NULL                 |NULL              |NULL  |NULL               |NULL              |NULL            |NULL            |NULL           |702-919-1300|MOBILE    |Bob               |NULL             |Smith            |NULL               |NULL            |PERSON     |NULL              |NULL       |Inactive  |[1002, 1001, 1003, 1004]      |[1001, 1003, 1004]      |\n",
      "|1        |1003     |NULL         |NULL        |NULL     |NULL                               |NULL            |NULL      |NULL     |300   |NULL    |CUSTOMERS  |4/9/16 |12/11/1978   |NULL                  |NULL                 |bsmith@work.com   |NULL  |NULL               |NULL              |NULL            |NULL            |NULL           |NULL        |NULL      |Bob               |NULL             |Smith            |J                  |NULL            |PERSON     |NULL              |NULL       |Inactive  |[1002, 1001, 1003, 1004]      |[1002, 1001, 1004]      |\n",
      "|1        |1004     |Las Vegas    |NULL        |NULL     |1515 Adela Ln                      |89132           |NV        |HOME     |400   |NULL    |CUSTOMERS  |1/5/15 |11/12/1979   |NULL                  |NULL                 |bsmith@work.com   |NULL  |NULL               |NULL              |NULL            |NULL            |NULL           |NULL        |NULL      |B                 |NULL             |Smith            |NULL               |NULL            |PERSON     |NULL              |NULL       |Inactive  |[1002, 1001, 1003, 1004]      |[1002, 1001, 1003]      |\n",
      "|5        |1005     |Henderson    |NULL        |NULL     |123 E Main St                      |89132           |NV        |MAILING  |500   |NULL    |CUSTOMERS  |7/16/19|NULL         |112233                |NV                   |NULL              |NULL  |NULL               |NULL              |NULL            |NULL            |NULL           |NULL        |NULL      |Robbie            |NULL             |Smith            |NULL               |NULL            |PERSON     |NULL              |NULL       |Active    |[1005, 1006]                  |[1006]                  |\n",
      "|6        |1009     |Blacklick    |NULL        |NULL     |1304 Poppy Hills Dr                |43004           |OH        |HOME     |600   |NULL    |CUSTOMERS  |1/7/18 |3/1/1970     |NULL                  |NULL                 |Kusha123@hmail.com|NULL  |NULL               |NULL              |NULL            |NULL            |NULL           |NULL        |NULL      |Edward            |NULL             |Kusha            |NULL               |NULL            |PERSON     |NULL              |294-66-9999|Active    |[1009, 1010, 1011, 1012, 1014]|[1010, 1011, 1012, 1014]|\n",
      "|6        |1010     |Blacklick    |NULL        |NULL     |1304 Poppy Hills Dr                |NULL            |OHIO      |HOME     |700   |NULL    |CUSTOMERS  |1/8/16 |Mar 1 1970   |NULL                  |NULL                 |NULL              |NULL  |NULL               |NULL              |NULL            |NULL            |NULL           |NULL        |NULL      |Eddie             |NULL             |Kusha            |NULL               |NULL            |PERSON     |NULL              |NULL       |Inactive  |[1009, 1010, 1011, 1012, 1014]|[1009, 1011, 1012, 1014]|\n",
      "|6        |1011     |San Francisco|NULL        |NULL     |1602 Brenville Pl                  |94105           |CA        |HOME     |800   |NULL    |CUSTOMERS  |10/9/15|3/1/70       |NULL                  |NULL                 |NULL              |NULL  |NULL               |NULL              |NULL            |NULL            |NULL           |NULL        |NULL      |Ed                |NULL             |Knight           |NULL               |NULL            |PERSON     |NULL              |NULL       |Terminated|[1009, 1010, 1011, 1012, 1014]|[1009, 1010, 1012, 1014]|\n",
      "|9        |1015     |Blacklick    |NULL        |NULL     |1304 Poppy Hills Dr                |43004           |OH        |HOME     |900   |NULL    |CUSTOMERS  |1/10/18|10/27/76     |NULL                  |NULL                 |Kusha123@hmail.com|NULL  |NULL               |NULL              |NULL            |NULL            |NULL           |512-353-8633|HOME      |Mary              |NULL             |Kusha            |NULL               |NULL            |PERSON     |NULL              |293-90-9090|Active    |[1015, 1016, 1017, 1018]      |[1016, 1017, 1018]      |\n",
      "|9        |1016     |NULL         |NULL        |NULL     |1304 Poppy Hills Dr                |43004           |NULL      |HOME     |100   |NULL    |CUSTOMERS  |1/11/18|10/27/76     |NULL                  |NULL                 |NULL              |NULL  |NULL               |NULL              |NULL            |NULL            |NULL           |NULL        |NULL      |Marie             |NULL             |Kusha            |NULL               |NULL            |PERSON     |NULL              |NULL       |Active    |[1015, 1016, 1017, 1018]      |[1015, 1017, 1018]      |\n",
      "+---------+---------+-------------+------------+---------+-----------------------------------+----------------+----------+---------+------+--------+-----------+-------+-------------+----------------------+---------------------+------------------+------+-------------------+------------------+----------------+----------------+---------------+------------+----------+------------------+-----------------+-----------------+-------------------+----------------+-----------+------------------+-----------+----------+------------------------------+------------------------+\n",
      "only showing top 10 rows\n"
     ]
    }
   ],
   "source": [
    "customers.show(10, truncate=False)"
   ]
  },
  {
   "cell_type": "markdown",
   "id": "310451d1",
   "metadata": {},
   "source": [
    "There's now a column in our `customers` dataframe that contains all the other records that have been resolved to the same entity! It should look like this:\n",
    "\n",
    "| RECORD_ID | ENTITY_ID | RELATED_RECORD_IDS |\n",
    "|-----------|-----------|-------------------|\n",
    "| 1004 |1|[1002, 1001, 1003] |\n",
    "|1010|6|[1009, 1011, 1012, 1014]|\n",
    "|1016|9|[1015, 1017, 1018]|\n",
    "..."
   ]
  },
  {
   "cell_type": "code",
   "execution_count": 35,
   "id": "d964ebb1",
   "metadata": {},
   "outputs": [
    {
     "name": "stdout",
     "output_type": "stream",
     "text": [
      "+---------+---------+------------------------+\n",
      "|RECORD_ID|ENTITY_ID|RELATED_RECORD_IDS      |\n",
      "+---------+---------+------------------------+\n",
      "|1004     |1        |[1002, 1001, 1003]      |\n",
      "|1010     |6        |[1009, 1011, 1012, 1014]|\n",
      "|1016     |9        |[1015, 1017, 1018]      |\n",
      "|1017     |9        |[1015, 1016, 1018]      |\n",
      "|1005     |5        |[1006]                  |\n",
      "|1011     |6        |[1009, 1010, 1012, 1014]|\n",
      "|1015     |9        |[1016, 1017, 1018]      |\n",
      "|1009     |6        |[1010, 1011, 1012, 1014]|\n",
      "|1003     |1        |[1002, 1001, 1004]      |\n",
      "|1002     |1        |[1001, 1003, 1004]      |\n",
      "+---------+---------+------------------------+\n",
      "only showing top 10 rows\n"
     ]
    }
   ],
   "source": [
    "customers.select(\"RECORD_ID\", \"ENTITY_ID\", \"RELATED_RECORD_IDS\").show(10, truncate=False)"
   ]
  },
  {
   "cell_type": "code",
   "execution_count": 36,
   "id": "7e6fd08f",
   "metadata": {},
   "outputs": [],
   "source": [
    "spark.stop()"
   ]
  },
  {
   "cell_type": "markdown",
   "id": "fa4c6901",
   "metadata": {},
   "source": [
    "## Next steps\n",
    "\n",
    "Link to new tutorial\n",
    "\n",
    "TODO where else should people go if they want to learn more?"
   ]
  }
 ],
 "metadata": {
  "kernelspec": {
   "display_name": "senzing-databricks",
   "language": "python",
   "name": "python3"
  },
  "language_info": {
   "codemirror_mode": {
    "name": "ipython",
    "version": 3
   },
   "file_extension": ".py",
   "mimetype": "text/x-python",
   "name": "python",
   "nbconvert_exporter": "python",
   "pygments_lexer": "ipython3",
   "version": "3.13.0"
  }
 },
 "nbformat": 4,
 "nbformat_minor": 5
}
